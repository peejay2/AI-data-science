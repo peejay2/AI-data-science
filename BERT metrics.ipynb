{
 "cells": [
  {
   "cell_type": "code",
   "execution_count": 94,
   "id": "810a0679",
   "metadata": {},
   "outputs": [],
   "source": [
    "import pandas as pd\n",
    "import matplotlib.pyplot as plt\n",
    "import numpy as np"
   ]
  },
  {
   "cell_type": "code",
   "execution_count": 69,
   "id": "13cf995c",
   "metadata": {},
   "outputs": [],
   "source": [
    "df = pd.read_excel(r\"C:\\Users\\admindc\\Documents\\Project\\Metrics2.xlsx\",sheet_name='BERT')"
   ]
  },
  {
   "cell_type": "code",
   "execution_count": 70,
   "id": "0f740d99",
   "metadata": {},
   "outputs": [
    {
     "data": {
      "text/html": [
       "<div>\n",
       "<style scoped>\n",
       "    .dataframe tbody tr th:only-of-type {\n",
       "        vertical-align: middle;\n",
       "    }\n",
       "\n",
       "    .dataframe tbody tr th {\n",
       "        vertical-align: top;\n",
       "    }\n",
       "\n",
       "    .dataframe thead th {\n",
       "        text-align: right;\n",
       "    }\n",
       "</style>\n",
       "<table border=\"1\" class=\"dataframe\">\n",
       "  <thead>\n",
       "    <tr style=\"text-align: right;\">\n",
       "      <th></th>\n",
       "      <th>Unnamed: 0</th>\n",
       "      <th>Unnamed: 1</th>\n",
       "      <th>Unnamed: 2</th>\n",
       "      <th>Unnamed: 3</th>\n",
       "      <th>Unnamed: 4</th>\n",
       "    </tr>\n",
       "  </thead>\n",
       "  <tbody>\n",
       "    <tr>\n",
       "      <th>2</th>\n",
       "      <td>1</td>\n",
       "      <td>Train Accuracy: 83.0129</td>\n",
       "      <td>Loss:0.22058479487895966 Epoch 1/10</td>\n",
       "      <td>Val Accuracy: 0.8565</td>\n",
       "      <td>Loss:0.3390183783511617 Epoch 2/10</td>\n",
       "    </tr>\n",
       "    <tr>\n",
       "      <th>3</th>\n",
       "      <td>2</td>\n",
       "      <td>Train Accuracy: 92.9894</td>\n",
       "      <td>Loss:0.08155964314937592 Epoch 2/10</td>\n",
       "      <td>Val Accuracy: 0.8490</td>\n",
       "      <td>Loss:0.35560007353396667 Epoch 3/10</td>\n",
       "    </tr>\n",
       "    <tr>\n",
       "      <th>4</th>\n",
       "      <td>3</td>\n",
       "      <td>Train Accuracy: 97.3857</td>\n",
       "      <td>Loss:0.08666671067476273 Epoch 3/10</td>\n",
       "      <td>Val Accuracy: 0.8649</td>\n",
       "      <td>Loss:0.4157205445365285 Epoch 4/10</td>\n",
       "    </tr>\n",
       "    <tr>\n",
       "      <th>5</th>\n",
       "      <td>4</td>\n",
       "      <td>Train Accuracy: 98.7339</td>\n",
       "      <td>Loss:0.0011845396365970373 Epoch 4/10</td>\n",
       "      <td>Val Accuracy: 0.8452</td>\n",
       "      <td>Loss:0.66538157256354 Epoch 5/10</td>\n",
       "    </tr>\n",
       "    <tr>\n",
       "      <th>6</th>\n",
       "      <td>5</td>\n",
       "      <td>Train Accuracy: 98.8277</td>\n",
       "      <td>Loss:0.0012415691744536161 Epoch 5/10</td>\n",
       "      <td>Val Accuracy: 0.8546</td>\n",
       "      <td>Loss:0.6395529172141731 Epoch 6/10</td>\n",
       "    </tr>\n",
       "    <tr>\n",
       "      <th>7</th>\n",
       "      <td>6</td>\n",
       "      <td>Train Accuracy: 99.2380</td>\n",
       "      <td>Loss:0.00013630582543555647 Epoch 6/10</td>\n",
       "      <td>Val Accuracy: 0.8527</td>\n",
       "      <td>Loss:0.7000723634762346 Epoch 7/10</td>\n",
       "    </tr>\n",
       "    <tr>\n",
       "      <th>8</th>\n",
       "      <td>7</td>\n",
       "      <td>Train Accuracy: 99.1559</td>\n",
       "      <td>Loss:0.0010046218521893024 Epoch 7/10</td>\n",
       "      <td>Val Accuracy: 0.8518</td>\n",
       "      <td>Loss:0.6059612197564296 Epoch 8/10</td>\n",
       "    </tr>\n",
       "    <tr>\n",
       "      <th>9</th>\n",
       "      <td>8</td>\n",
       "      <td>Train Accuracy: 99.3787</td>\n",
       "      <td>Loss:0.0002643601910676807 Epoch 8/10</td>\n",
       "      <td>Val Accuracy: 0.8508</td>\n",
       "      <td>Loss:0.8429618004536054 Epoch 9/10</td>\n",
       "    </tr>\n",
       "    <tr>\n",
       "      <th>10</th>\n",
       "      <td>9</td>\n",
       "      <td>Train Accuracy: 99.5076</td>\n",
       "      <td>Loss:0.00016949939890764654 Epoch 9/10</td>\n",
       "      <td>Val Accuracy: 0.8593</td>\n",
       "      <td>Loss:0.6727953871618478 Epoch 10/10</td>\n",
       "    </tr>\n",
       "    <tr>\n",
       "      <th>11</th>\n",
       "      <td>10</td>\n",
       "      <td>Train Accuracy: 99.3904</td>\n",
       "      <td>Loss:0.00013994028267916292 Epoch 10/10</td>\n",
       "      <td>Val Accuracy: 0.8555</td>\n",
       "      <td>Loss:0.8199487386195123</td>\n",
       "    </tr>\n",
       "  </tbody>\n",
       "</table>\n",
       "</div>"
      ],
      "text/plain": [
       "   Unnamed: 0                Unnamed: 1  \\\n",
       "2           1   Train Accuracy: 83.0129   \n",
       "3           2   Train Accuracy: 92.9894   \n",
       "4           3   Train Accuracy: 97.3857   \n",
       "5           4   Train Accuracy: 98.7339   \n",
       "6           5   Train Accuracy: 98.8277   \n",
       "7           6   Train Accuracy: 99.2380   \n",
       "8           7   Train Accuracy: 99.1559   \n",
       "9           8   Train Accuracy: 99.3787   \n",
       "10          9   Train Accuracy: 99.5076   \n",
       "11         10   Train Accuracy: 99.3904   \n",
       "\n",
       "                                  Unnamed: 2             Unnamed: 3  \\\n",
       "2        Loss:0.22058479487895966 Epoch 1/10   Val Accuracy: 0.8565   \n",
       "3        Loss:0.08155964314937592 Epoch 2/10   Val Accuracy: 0.8490   \n",
       "4        Loss:0.08666671067476273 Epoch 3/10   Val Accuracy: 0.8649   \n",
       "5      Loss:0.0011845396365970373 Epoch 4/10   Val Accuracy: 0.8452   \n",
       "6      Loss:0.0012415691744536161 Epoch 5/10   Val Accuracy: 0.8546   \n",
       "7     Loss:0.00013630582543555647 Epoch 6/10   Val Accuracy: 0.8527   \n",
       "8      Loss:0.0010046218521893024 Epoch 7/10   Val Accuracy: 0.8518   \n",
       "9      Loss:0.0002643601910676807 Epoch 8/10   Val Accuracy: 0.8508   \n",
       "10    Loss:0.00016949939890764654 Epoch 9/10   Val Accuracy: 0.8593   \n",
       "11   Loss:0.00013994028267916292 Epoch 10/10   Val Accuracy: 0.8555   \n",
       "\n",
       "                              Unnamed: 4  \n",
       "2     Loss:0.3390183783511617 Epoch 2/10  \n",
       "3    Loss:0.35560007353396667 Epoch 3/10  \n",
       "4     Loss:0.4157205445365285 Epoch 4/10  \n",
       "5       Loss:0.66538157256354 Epoch 5/10  \n",
       "6     Loss:0.6395529172141731 Epoch 6/10  \n",
       "7     Loss:0.7000723634762346 Epoch 7/10  \n",
       "8     Loss:0.6059612197564296 Epoch 8/10  \n",
       "9     Loss:0.8429618004536054 Epoch 9/10  \n",
       "10   Loss:0.6727953871618478 Epoch 10/10  \n",
       "11               Loss:0.8199487386195123  "
      ]
     },
     "execution_count": 70,
     "metadata": {},
     "output_type": "execute_result"
    }
   ],
   "source": [
    "df.iloc[2:12]"
   ]
  },
  {
   "cell_type": "code",
   "execution_count": 71,
   "id": "48ca1e3c",
   "metadata": {},
   "outputs": [],
   "source": [
    "df.columns =['Epoch', 'Train Accuracy', 'Train Loss', 'Val Accuracy', 'Val Loss']"
   ]
  },
  {
   "cell_type": "code",
   "execution_count": 72,
   "id": "f262e28c",
   "metadata": {},
   "outputs": [],
   "source": [
    "df = df.iloc[2:12]"
   ]
  },
  {
   "cell_type": "code",
   "execution_count": 73,
   "id": "f7dd121a",
   "metadata": {},
   "outputs": [],
   "source": [
    "df['Train Accuracy'] = [split_value[-1] for split_value in df['Train Accuracy'].str.split(': ')]"
   ]
  },
  {
   "cell_type": "code",
   "execution_count": 75,
   "id": "9b359289",
   "metadata": {},
   "outputs": [
    {
     "data": {
      "text/html": [
       "<div>\n",
       "<style scoped>\n",
       "    .dataframe tbody tr th:only-of-type {\n",
       "        vertical-align: middle;\n",
       "    }\n",
       "\n",
       "    .dataframe tbody tr th {\n",
       "        vertical-align: top;\n",
       "    }\n",
       "\n",
       "    .dataframe thead th {\n",
       "        text-align: right;\n",
       "    }\n",
       "</style>\n",
       "<table border=\"1\" class=\"dataframe\">\n",
       "  <thead>\n",
       "    <tr style=\"text-align: right;\">\n",
       "      <th></th>\n",
       "      <th>Epoch</th>\n",
       "      <th>Train Accuracy</th>\n",
       "      <th>Train Loss</th>\n",
       "      <th>Val Accuracy</th>\n",
       "      <th>Val Loss</th>\n",
       "    </tr>\n",
       "  </thead>\n",
       "  <tbody>\n",
       "    <tr>\n",
       "      <th>2</th>\n",
       "      <td>1</td>\n",
       "      <td>83.0129</td>\n",
       "      <td>Loss:0.22058479487895966 Epoch 1/10</td>\n",
       "      <td>Val Accuracy: 0.8565</td>\n",
       "      <td>Loss:0.3390183783511617 Epoch 2/10</td>\n",
       "    </tr>\n",
       "    <tr>\n",
       "      <th>3</th>\n",
       "      <td>2</td>\n",
       "      <td>92.9894</td>\n",
       "      <td>Loss:0.08155964314937592 Epoch 2/10</td>\n",
       "      <td>Val Accuracy: 0.8490</td>\n",
       "      <td>Loss:0.35560007353396667 Epoch 3/10</td>\n",
       "    </tr>\n",
       "    <tr>\n",
       "      <th>4</th>\n",
       "      <td>3</td>\n",
       "      <td>97.3857</td>\n",
       "      <td>Loss:0.08666671067476273 Epoch 3/10</td>\n",
       "      <td>Val Accuracy: 0.8649</td>\n",
       "      <td>Loss:0.4157205445365285 Epoch 4/10</td>\n",
       "    </tr>\n",
       "    <tr>\n",
       "      <th>5</th>\n",
       "      <td>4</td>\n",
       "      <td>98.7339</td>\n",
       "      <td>Loss:0.0011845396365970373 Epoch 4/10</td>\n",
       "      <td>Val Accuracy: 0.8452</td>\n",
       "      <td>Loss:0.66538157256354 Epoch 5/10</td>\n",
       "    </tr>\n",
       "    <tr>\n",
       "      <th>6</th>\n",
       "      <td>5</td>\n",
       "      <td>98.8277</td>\n",
       "      <td>Loss:0.0012415691744536161 Epoch 5/10</td>\n",
       "      <td>Val Accuracy: 0.8546</td>\n",
       "      <td>Loss:0.6395529172141731 Epoch 6/10</td>\n",
       "    </tr>\n",
       "    <tr>\n",
       "      <th>7</th>\n",
       "      <td>6</td>\n",
       "      <td>99.2380</td>\n",
       "      <td>Loss:0.00013630582543555647 Epoch 6/10</td>\n",
       "      <td>Val Accuracy: 0.8527</td>\n",
       "      <td>Loss:0.7000723634762346 Epoch 7/10</td>\n",
       "    </tr>\n",
       "    <tr>\n",
       "      <th>8</th>\n",
       "      <td>7</td>\n",
       "      <td>99.1559</td>\n",
       "      <td>Loss:0.0010046218521893024 Epoch 7/10</td>\n",
       "      <td>Val Accuracy: 0.8518</td>\n",
       "      <td>Loss:0.6059612197564296 Epoch 8/10</td>\n",
       "    </tr>\n",
       "    <tr>\n",
       "      <th>9</th>\n",
       "      <td>8</td>\n",
       "      <td>99.3787</td>\n",
       "      <td>Loss:0.0002643601910676807 Epoch 8/10</td>\n",
       "      <td>Val Accuracy: 0.8508</td>\n",
       "      <td>Loss:0.8429618004536054 Epoch 9/10</td>\n",
       "    </tr>\n",
       "    <tr>\n",
       "      <th>10</th>\n",
       "      <td>9</td>\n",
       "      <td>99.5076</td>\n",
       "      <td>Loss:0.00016949939890764654 Epoch 9/10</td>\n",
       "      <td>Val Accuracy: 0.8593</td>\n",
       "      <td>Loss:0.6727953871618478 Epoch 10/10</td>\n",
       "    </tr>\n",
       "    <tr>\n",
       "      <th>11</th>\n",
       "      <td>10</td>\n",
       "      <td>99.3904</td>\n",
       "      <td>Loss:0.00013994028267916292 Epoch 10/10</td>\n",
       "      <td>Val Accuracy: 0.8555</td>\n",
       "      <td>Loss:0.8199487386195123</td>\n",
       "    </tr>\n",
       "  </tbody>\n",
       "</table>\n",
       "</div>"
      ],
      "text/plain": [
       "   Epoch Train Accuracy                                Train Loss  \\\n",
       "2      1        83.0129       Loss:0.22058479487895966 Epoch 1/10   \n",
       "3      2        92.9894       Loss:0.08155964314937592 Epoch 2/10   \n",
       "4      3        97.3857       Loss:0.08666671067476273 Epoch 3/10   \n",
       "5      4        98.7339     Loss:0.0011845396365970373 Epoch 4/10   \n",
       "6      5        98.8277     Loss:0.0012415691744536161 Epoch 5/10   \n",
       "7      6        99.2380    Loss:0.00013630582543555647 Epoch 6/10   \n",
       "8      7        99.1559     Loss:0.0010046218521893024 Epoch 7/10   \n",
       "9      8        99.3787     Loss:0.0002643601910676807 Epoch 8/10   \n",
       "10     9        99.5076    Loss:0.00016949939890764654 Epoch 9/10   \n",
       "11    10        99.3904   Loss:0.00013994028267916292 Epoch 10/10   \n",
       "\n",
       "             Val Accuracy                              Val Loss  \n",
       "2    Val Accuracy: 0.8565    Loss:0.3390183783511617 Epoch 2/10  \n",
       "3    Val Accuracy: 0.8490   Loss:0.35560007353396667 Epoch 3/10  \n",
       "4    Val Accuracy: 0.8649    Loss:0.4157205445365285 Epoch 4/10  \n",
       "5    Val Accuracy: 0.8452      Loss:0.66538157256354 Epoch 5/10  \n",
       "6    Val Accuracy: 0.8546    Loss:0.6395529172141731 Epoch 6/10  \n",
       "7    Val Accuracy: 0.8527    Loss:0.7000723634762346 Epoch 7/10  \n",
       "8    Val Accuracy: 0.8518    Loss:0.6059612197564296 Epoch 8/10  \n",
       "9    Val Accuracy: 0.8508    Loss:0.8429618004536054 Epoch 9/10  \n",
       "10   Val Accuracy: 0.8593   Loss:0.6727953871618478 Epoch 10/10  \n",
       "11   Val Accuracy: 0.8555               Loss:0.8199487386195123  "
      ]
     },
     "execution_count": 75,
     "metadata": {},
     "output_type": "execute_result"
    }
   ],
   "source": [
    "df"
   ]
  },
  {
   "cell_type": "code",
   "execution_count": 76,
   "id": "09efcab9",
   "metadata": {},
   "outputs": [],
   "source": [
    "df['Train Loss'] = [split_value[-1] for split_value in df['Train Loss'].str.split('Loss:')]"
   ]
  },
  {
   "cell_type": "code",
   "execution_count": 78,
   "id": "36836bb9",
   "metadata": {},
   "outputs": [],
   "source": [
    "df['Train Loss'] = [split_value[0] for split_value in df['Train Loss'].str.split('Epoch')]"
   ]
  },
  {
   "cell_type": "code",
   "execution_count": 80,
   "id": "b70fe151",
   "metadata": {},
   "outputs": [],
   "source": [
    "df['Val Accuracy'] = [split_value[-1] for split_value in df['Val Accuracy'].str.split(': ')]"
   ]
  },
  {
   "cell_type": "code",
   "execution_count": 81,
   "id": "f5a148fe",
   "metadata": {},
   "outputs": [],
   "source": [
    "df['Val Loss'] = [split_value[-1] for split_value in df['Val Loss'].str.split(':')]"
   ]
  },
  {
   "cell_type": "code",
   "execution_count": 82,
   "id": "9ebda9fc",
   "metadata": {},
   "outputs": [],
   "source": [
    "df['Val Loss'] = [split_value[0] for split_value in df['Val Loss'].str.split('Epoch')]"
   ]
  },
  {
   "cell_type": "code",
   "execution_count": 83,
   "id": "51c73576",
   "metadata": {},
   "outputs": [],
   "source": [
    "df['Train Accuracy'] = df['Train Accuracy'].astype(str) + '%'"
   ]
  },
  {
   "cell_type": "code",
   "execution_count": 84,
   "id": "6d2c0ca0",
   "metadata": {},
   "outputs": [],
   "source": [
    "df['Val Accuracy'] = df['Val Accuracy'].astype(str) + '%'"
   ]
  },
  {
   "cell_type": "code",
   "execution_count": 85,
   "id": "548e120e",
   "metadata": {},
   "outputs": [
    {
     "data": {
      "text/plain": [
       "2     0.8565%\n",
       "3      0.849%\n",
       "4     0.8649%\n",
       "5     0.8452%\n",
       "6     0.8546%\n",
       "7     0.8527%\n",
       "8     0.8518%\n",
       "9     0.8508%\n",
       "10    0.8593%\n",
       "11    0.8555%\n",
       "Name: Val Accuracy, dtype: object"
      ]
     },
     "execution_count": 85,
     "metadata": {},
     "output_type": "execute_result"
    }
   ],
   "source": [
    "df['Val Accuracy'].str.rstrip('%').astype(float).astype(str) + '%'"
   ]
  },
  {
   "cell_type": "code",
   "execution_count": 88,
   "id": "29850104",
   "metadata": {},
   "outputs": [],
   "source": [
    "df = df.reset_index(drop=True)"
   ]
  },
  {
   "cell_type": "code",
   "execution_count": 90,
   "id": "2dfd1435",
   "metadata": {},
   "outputs": [],
   "source": [
    "df['Train Accuracy'] = df['Train Accuracy'].str.rstrip('%').astype(float)"
   ]
  },
  {
   "cell_type": "code",
   "execution_count": 92,
   "id": "65242ad1",
   "metadata": {},
   "outputs": [],
   "source": [
    "df['Val Accuracy'] = df['Val Accuracy'].str.rstrip('%').astype(float)"
   ]
  },
  {
   "cell_type": "code",
   "execution_count": 141,
   "id": "342ad3bd",
   "metadata": {},
   "outputs": [],
   "source": [
    "df['Train Loss'] = df['Train Loss'].astype(float)\n",
    "df['Val Loss'] = df['Val Loss'].astype(float)"
   ]
  },
  {
   "cell_type": "code",
   "execution_count": 147,
   "id": "26cff332",
   "metadata": {},
   "outputs": [],
   "source": [
    "dfrounded = df.round(4)"
   ]
  },
  {
   "cell_type": "code",
   "execution_count": 156,
   "id": "cbb4fba3",
   "metadata": {},
   "outputs": [],
   "source": [
    "df['Train Accuracy'] /= 100"
   ]
  },
  {
   "cell_type": "code",
   "execution_count": 151,
   "id": "003b0b3d",
   "metadata": {},
   "outputs": [
    {
     "data": {
      "image/png": "[encoded data removed]",
      "text/plain": [
       "<Figure size 1000x600 with 1 Axes>"
      ]
     },
     "metadata": {},
     "output_type": "display_data"
    }
   ],
   "source": [
    "plt.figure(figsize=(10, 6))\n",
    "plt.plot(df['Epoch'], df['Train Loss'], label='Train Loss')\n",
    "plt.plot(df['Epoch'], df['Val Loss'], label='Validation Loss')\n",
    "\n",
    "plt.title('Loss Curve')\n",
    "plt.xlabel('Epoch')\n",
    "plt.ylabel('Loss')\n",
    "\n",
    "\n",
    "\n",
    "plt.legend()\n",
    "plt.grid(False)\n",
    "plt.show()"
   ]
  },
  {
   "cell_type": "code",
   "execution_count": 157,
   "id": "3aefebd4",
   "metadata": {},
   "outputs": [
    {
     "data": {
      "image/png": "[encoded data removed]",
      "text/plain": [
       "<Figure size 1000x600 with 1 Axes>"
      ]
     },
     "metadata": {},
     "output_type": "display_data"
    }
   ],
   "source": [
    "plt.figure(figsize=(10, 6))\n",
    "plt.plot(df['Epoch'], df['Train Accuracy'], label='Train Accuracy')\n",
    "plt.plot(df['Epoch'], df['Val Accuracy'], label='Validation Accuracy')\n",
    "\n",
    "plt.title('Learning Curve Curve')\n",
    "plt.xlabel('Epoch')\n",
    "plt.ylabel('Loss')\n",
    "\n",
    "\n",
    "\n",
    "plt.legend()\n",
    "plt.grid(False)\n",
    "plt.show()"
   ]
  }
 ],
 "metadata": {
  "kernelspec": {
   "display_name": "Python 3 (ipykernel)",
   "language": "python",
   "name": "python3"
  },
  "language_info": {
   "codemirror_mode": {
    "name": "ipython",
    "version": 3
   },
   "file_extension": ".py",
   "mimetype": "text/x-python",
   "name": "python",
   "nbconvert_exporter": "python",
   "pygments_lexer": "ipython3",
   "version": "3.9.0"
  }
 },
 "nbformat": 4,
 "nbformat_minor": 5
}
