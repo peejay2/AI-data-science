{
 "cells": [
  {
   "cell_type": "code",
   "execution_count": 129,
   "metadata": {},
   "outputs": [],
   "source": [
    "import numpy as np\n",
    "import pandas as pd\n",
    "\n",
    "import matplotlib.pyplot as plt\n",
    "import seaborn as sns\n",
    "\n",
    "from sklearn.model_selection import GridSearchCV, train_test_split, learning_curve\n"
   ]
  },
  {
   "cell_type": "code",
   "execution_count": 130,
   "metadata": {},
   "outputs": [],
   "source": [
    "data = sns.load_dataset('titanic')\n"
   ]
  },
  {
   "cell_type": "code",
   "execution_count": 4,
   "metadata": {},
   "outputs": [
    {
     "name": "stderr",
     "output_type": "stream",
     "text": [
      "C:\\Users\\Alberto\\AppData\\Local\\Temp\\ipykernel_12648\\2627137660.py:1: FutureWarning: The default value of numeric_only in DataFrame.corr is deprecated. In a future version, it will default to False. Select only valid columns or specify the value of numeric_only to silence this warning.\n",
      "  data.corr()\n"
     ]
    },
    {
     "data": {
      "text/html": [
       "<div>\n",
       "<style scoped>\n",
       "    .dataframe tbody tr th:only-of-type {\n",
       "        vertical-align: middle;\n",
       "    }\n",
       "\n",
       "    .dataframe tbody tr th {\n",
       "        vertical-align: top;\n",
       "    }\n",
       "\n",
       "    .dataframe thead th {\n",
       "        text-align: right;\n",
       "    }\n",
       "</style>\n",
       "<table border=\"1\" class=\"dataframe\">\n",
       "  <thead>\n",
       "    <tr style=\"text-align: right;\">\n",
       "      <th></th>\n",
       "      <th>survived</th>\n",
       "      <th>pclass</th>\n",
       "      <th>age</th>\n",
       "      <th>sibsp</th>\n",
       "      <th>parch</th>\n",
       "      <th>fare</th>\n",
       "      <th>adult_male</th>\n",
       "      <th>alone</th>\n",
       "    </tr>\n",
       "  </thead>\n",
       "  <tbody>\n",
       "    <tr>\n",
       "      <th>survived</th>\n",
       "      <td>1.000000</td>\n",
       "      <td>-0.338481</td>\n",
       "      <td>-0.077221</td>\n",
       "      <td>-0.035322</td>\n",
       "      <td>0.081629</td>\n",
       "      <td>0.257307</td>\n",
       "      <td>-0.557080</td>\n",
       "      <td>-0.203367</td>\n",
       "    </tr>\n",
       "    <tr>\n",
       "      <th>pclass</th>\n",
       "      <td>-0.338481</td>\n",
       "      <td>1.000000</td>\n",
       "      <td>-0.369226</td>\n",
       "      <td>0.083081</td>\n",
       "      <td>0.018443</td>\n",
       "      <td>-0.549500</td>\n",
       "      <td>0.094035</td>\n",
       "      <td>0.135207</td>\n",
       "    </tr>\n",
       "    <tr>\n",
       "      <th>age</th>\n",
       "      <td>-0.077221</td>\n",
       "      <td>-0.369226</td>\n",
       "      <td>1.000000</td>\n",
       "      <td>-0.308247</td>\n",
       "      <td>-0.189119</td>\n",
       "      <td>0.096067</td>\n",
       "      <td>0.280328</td>\n",
       "      <td>0.198270</td>\n",
       "    </tr>\n",
       "    <tr>\n",
       "      <th>sibsp</th>\n",
       "      <td>-0.035322</td>\n",
       "      <td>0.083081</td>\n",
       "      <td>-0.308247</td>\n",
       "      <td>1.000000</td>\n",
       "      <td>0.414838</td>\n",
       "      <td>0.159651</td>\n",
       "      <td>-0.253586</td>\n",
       "      <td>-0.584471</td>\n",
       "    </tr>\n",
       "    <tr>\n",
       "      <th>parch</th>\n",
       "      <td>0.081629</td>\n",
       "      <td>0.018443</td>\n",
       "      <td>-0.189119</td>\n",
       "      <td>0.414838</td>\n",
       "      <td>1.000000</td>\n",
       "      <td>0.216225</td>\n",
       "      <td>-0.349943</td>\n",
       "      <td>-0.583398</td>\n",
       "    </tr>\n",
       "    <tr>\n",
       "      <th>fare</th>\n",
       "      <td>0.257307</td>\n",
       "      <td>-0.549500</td>\n",
       "      <td>0.096067</td>\n",
       "      <td>0.159651</td>\n",
       "      <td>0.216225</td>\n",
       "      <td>1.000000</td>\n",
       "      <td>-0.182024</td>\n",
       "      <td>-0.271832</td>\n",
       "    </tr>\n",
       "    <tr>\n",
       "      <th>adult_male</th>\n",
       "      <td>-0.557080</td>\n",
       "      <td>0.094035</td>\n",
       "      <td>0.280328</td>\n",
       "      <td>-0.253586</td>\n",
       "      <td>-0.349943</td>\n",
       "      <td>-0.182024</td>\n",
       "      <td>1.000000</td>\n",
       "      <td>0.404744</td>\n",
       "    </tr>\n",
       "    <tr>\n",
       "      <th>alone</th>\n",
       "      <td>-0.203367</td>\n",
       "      <td>0.135207</td>\n",
       "      <td>0.198270</td>\n",
       "      <td>-0.584471</td>\n",
       "      <td>-0.583398</td>\n",
       "      <td>-0.271832</td>\n",
       "      <td>0.404744</td>\n",
       "      <td>1.000000</td>\n",
       "    </tr>\n",
       "  </tbody>\n",
       "</table>\n",
       "</div>"
      ],
      "text/plain": [
       "            survived    pclass       age     sibsp     parch      fare  \\\n",
       "survived    1.000000 -0.338481 -0.077221 -0.035322  0.081629  0.257307   \n",
       "pclass     -0.338481  1.000000 -0.369226  0.083081  0.018443 -0.549500   \n",
       "age        -0.077221 -0.369226  1.000000 -0.308247 -0.189119  0.096067   \n",
       "sibsp      -0.035322  0.083081 -0.308247  1.000000  0.414838  0.159651   \n",
       "parch       0.081629  0.018443 -0.189119  0.414838  1.000000  0.216225   \n",
       "fare        0.257307 -0.549500  0.096067  0.159651  0.216225  1.000000   \n",
       "adult_male -0.557080  0.094035  0.280328 -0.253586 -0.349943 -0.182024   \n",
       "alone      -0.203367  0.135207  0.198270 -0.584471 -0.583398 -0.271832   \n",
       "\n",
       "            adult_male     alone  \n",
       "survived     -0.557080 -0.203367  \n",
       "pclass        0.094035  0.135207  \n",
       "age           0.280328  0.198270  \n",
       "sibsp        -0.253586 -0.584471  \n",
       "parch        -0.349943 -0.583398  \n",
       "fare         -0.182024 -0.271832  \n",
       "adult_male    1.000000  0.404744  \n",
       "alone         0.404744  1.000000  "
      ]
     },
     "execution_count": 4,
     "metadata": {},
     "output_type": "execute_result"
    }
   ],
   "source": [
    "data.corr()"
   ]
  },
  {
   "cell_type": "code",
   "execution_count": 131,
   "metadata": {},
   "outputs": [
    {
     "name": "stdout",
     "output_type": "stream",
     "text": [
      "(668, 14)\n"
     ]
    },
    {
     "data": {
      "text/html": [
       "<div>\n",
       "<style scoped>\n",
       "    .dataframe tbody tr th:only-of-type {\n",
       "        vertical-align: middle;\n",
       "    }\n",
       "\n",
       "    .dataframe tbody tr th {\n",
       "        vertical-align: top;\n",
       "    }\n",
       "\n",
       "    .dataframe thead th {\n",
       "        text-align: right;\n",
       "    }\n",
       "</style>\n",
       "<table border=\"1\" class=\"dataframe\">\n",
       "  <thead>\n",
       "    <tr style=\"text-align: right;\">\n",
       "      <th></th>\n",
       "      <th>pclass</th>\n",
       "      <th>sex</th>\n",
       "      <th>age</th>\n",
       "      <th>sibsp</th>\n",
       "      <th>parch</th>\n",
       "      <th>fare</th>\n",
       "      <th>embarked</th>\n",
       "      <th>class</th>\n",
       "      <th>who</th>\n",
       "      <th>adult_male</th>\n",
       "      <th>deck</th>\n",
       "      <th>embark_town</th>\n",
       "      <th>alive</th>\n",
       "      <th>alone</th>\n",
       "    </tr>\n",
       "  </thead>\n",
       "  <tbody>\n",
       "  </tbody>\n",
       "</table>\n",
       "</div>"
      ],
      "text/plain": [
       "Empty DataFrame\n",
       "Columns: [pclass, sex, age, sibsp, parch, fare, embarked, class, who, adult_male, deck, embark_town, alive, alone]\n",
       "Index: []"
      ]
     },
     "execution_count": 131,
     "metadata": {},
     "output_type": "execute_result"
    }
   ],
   "source": [
    "X = data.copy()\n",
    "y = X.pop('survived')\n",
    "\n",
    "X_train, X_test, y_train, y_test = train_test_split(X, y, random_state = 40)\n",
    "print(X_train.shape)\n",
    "X_test.shape\n",
    "\n",
    "\n",
    "X_train[(X_train['pclass'] == 2) != (X_train['class'] == 'Second')]"
   ]
  },
  {
   "cell_type": "code",
   "execution_count": 6,
   "metadata": {},
   "outputs": [],
   "source": [
    "X_train.nunique()\n",
    "\n",
    "cat_vars = ['sex', 'embarked', 'who', 'adult_male', 'deck', 'embark_town', 'alive', 'alone']\n",
    "ord_vars = ['deck', 'alive']\n",
    "num_vars = ['pclass', 'age', 'sibsp','parch', 'fare']\n"
   ]
  },
  {
   "cell_type": "code",
   "execution_count": 7,
   "metadata": {},
   "outputs": [],
   "source": [
    "from sklearn.preprocessing import OneHotEncoder\n",
    "X_train2= X_train[['pclass', 'sibsp','parch','sex', 'embarked', 'who', 'adult_male', 'deck', 'embark_town', 'alive', 'alone']]\n",
    "enc = OneHotEncoder(handle_unknown='ignore', sparse_output=False).set_output(transform = \"pandas\")\n",
    "enc.fit(X_train2)\n",
    "enc.categories_\n",
    "X_train3 = enc.transform(X_train2)"
   ]
  },
  {
   "cell_type": "code",
   "execution_count": 132,
   "metadata": {},
   "outputs": [],
   "source": [
    "X_train = X_train[['fare', 'deck', 'adult_male', 'age']]\n",
    "X_test = X_test[['fare', 'deck', 'adult_male', 'age']]\n",
    "\n"
   ]
  },
  {
   "cell_type": "code",
   "execution_count": 133,
   "metadata": {},
   "outputs": [],
   "source": [
    "from sklearn import preprocessing\n",
    "le = preprocessing.LabelEncoder()\n",
    "le.fit(X_train['deck'])\n",
    "\n",
    "le.classes_\n",
    "\n",
    "try2 = le.transform(X_train['deck'])\n",
    "try2\n",
    "X_train['deck'] = pd.DataFrame(np.where(try2 == 7, np.nan, try2))\n",
    "\n",
    "try2 = le.transform(X_test['deck'])\n",
    "try2\n",
    "X_test['deck'] = pd.DataFrame(np.where(try2 == 7, np.nan, try2))\n"
   ]
  },
  {
   "cell_type": "code",
   "execution_count": 135,
   "metadata": {},
   "outputs": [
    {
     "data": {
      "text/html": [
       "<div>\n",
       "<style scoped>\n",
       "    .dataframe tbody tr th:only-of-type {\n",
       "        vertical-align: middle;\n",
       "    }\n",
       "\n",
       "    .dataframe tbody tr th {\n",
       "        vertical-align: top;\n",
       "    }\n",
       "\n",
       "    .dataframe thead th {\n",
       "        text-align: right;\n",
       "    }\n",
       "</style>\n",
       "<table border=\"1\" class=\"dataframe\">\n",
       "  <thead>\n",
       "    <tr style=\"text-align: right;\">\n",
       "      <th></th>\n",
       "      <th>fare</th>\n",
       "      <th>deck</th>\n",
       "      <th>adult_male</th>\n",
       "      <th>age</th>\n",
       "    </tr>\n",
       "  </thead>\n",
       "  <tbody>\n",
       "    <tr>\n",
       "      <th>246</th>\n",
       "      <td>7.7750</td>\n",
       "      <td>NaN</td>\n",
       "      <td>False</td>\n",
       "      <td>25.0</td>\n",
       "    </tr>\n",
       "    <tr>\n",
       "      <th>588</th>\n",
       "      <td>8.0500</td>\n",
       "      <td>NaN</td>\n",
       "      <td>True</td>\n",
       "      <td>22.0</td>\n",
       "    </tr>\n",
       "    <tr>\n",
       "      <th>472</th>\n",
       "      <td>27.7500</td>\n",
       "      <td>NaN</td>\n",
       "      <td>False</td>\n",
       "      <td>33.0</td>\n",
       "    </tr>\n",
       "    <tr>\n",
       "      <th>71</th>\n",
       "      <td>46.9000</td>\n",
       "      <td>3.0</td>\n",
       "      <td>False</td>\n",
       "      <td>16.0</td>\n",
       "    </tr>\n",
       "    <tr>\n",
       "      <th>654</th>\n",
       "      <td>6.7500</td>\n",
       "      <td>NaN</td>\n",
       "      <td>False</td>\n",
       "      <td>18.0</td>\n",
       "    </tr>\n",
       "    <tr>\n",
       "      <th>...</th>\n",
       "      <td>...</td>\n",
       "      <td>...</td>\n",
       "      <td>...</td>\n",
       "      <td>...</td>\n",
       "    </tr>\n",
       "    <tr>\n",
       "      <th>827</th>\n",
       "      <td>37.0042</td>\n",
       "      <td>NaN</td>\n",
       "      <td>False</td>\n",
       "      <td>1.0</td>\n",
       "    </tr>\n",
       "    <tr>\n",
       "      <th>720</th>\n",
       "      <td>33.0000</td>\n",
       "      <td>NaN</td>\n",
       "      <td>False</td>\n",
       "      <td>6.0</td>\n",
       "    </tr>\n",
       "    <tr>\n",
       "      <th>14</th>\n",
       "      <td>7.8542</td>\n",
       "      <td>NaN</td>\n",
       "      <td>False</td>\n",
       "      <td>14.0</td>\n",
       "    </tr>\n",
       "    <tr>\n",
       "      <th>549</th>\n",
       "      <td>36.7500</td>\n",
       "      <td>NaN</td>\n",
       "      <td>False</td>\n",
       "      <td>8.0</td>\n",
       "    </tr>\n",
       "    <tr>\n",
       "      <th>216</th>\n",
       "      <td>7.9250</td>\n",
       "      <td>2.0</td>\n",
       "      <td>False</td>\n",
       "      <td>27.0</td>\n",
       "    </tr>\n",
       "  </tbody>\n",
       "</table>\n",
       "<p>223 rows × 4 columns</p>\n",
       "</div>"
      ],
      "text/plain": [
       "        fare  deck  adult_male   age\n",
       "246   7.7750   NaN       False  25.0\n",
       "588   8.0500   NaN        True  22.0\n",
       "472  27.7500   NaN       False  33.0\n",
       "71   46.9000   3.0       False  16.0\n",
       "654   6.7500   NaN       False  18.0\n",
       "..       ...   ...         ...   ...\n",
       "827  37.0042   NaN       False   1.0\n",
       "720  33.0000   NaN       False   6.0\n",
       "14    7.8542   NaN       False  14.0\n",
       "549  36.7500   NaN       False   8.0\n",
       "216   7.9250   2.0       False  27.0\n",
       "\n",
       "[223 rows x 4 columns]"
      ]
     },
     "execution_count": 135,
     "metadata": {},
     "output_type": "execute_result"
    }
   ],
   "source": [
    "X_test"
   ]
  },
  {
   "cell_type": "code",
   "execution_count": 136,
   "metadata": {},
   "outputs": [],
   "source": [
    "from sklearn.experimental import enable_iterative_imputer  # noqa\n",
    "from sklearn.impute import KNNImputer\n",
    "imputer = KNNImputer(n_neighbors=5)\n",
    "imputed = imputer.fit(X_train.values)\n",
    "X_train1 = imputer.transform(X_train.values)\n",
    "X_test1 = imputer.transform(X_test.values)\n",
    "\n"
   ]
  },
  {
   "cell_type": "code",
   "execution_count": 139,
   "metadata": {},
   "outputs": [
    {
     "data": {
      "text/plain": [
       "array([[7.775000e+00, 1.400000e+00, 0.000000e+00, 2.500000e+01],\n",
       "       [8.050000e+00, 1.600000e+00, 1.000000e+00, 2.200000e+01],\n",
       "       [2.775000e+01, 2.600000e+00, 0.000000e+00, 3.300000e+01],\n",
       "       [4.690000e+01, 3.000000e+00, 0.000000e+00, 1.600000e+01],\n",
       "       [6.750000e+00, 1.800000e+00, 0.000000e+00, 1.800000e+01],\n",
       "       [1.300000e+01, 1.600000e+00, 1.000000e+00, 3.000000e+01],\n",
       "       [8.050000e+00, 1.800000e+00, 1.000000e+00, 1.600000e+01],\n",
       "       [8.050000e+00, 1.800000e+00, 1.000000e+00, 1.900000e+01],\n",
       "       [1.300000e+01, 1.800000e+00, 1.000000e+00, 2.300000e+01],\n",
       "       [1.108833e+02, 2.600000e+00, 1.000000e+00, 1.700000e+01],\n",
       "       [2.600000e+01, 2.600000e+00, 0.000000e+00, 2.000000e+00],\n",
       "       [1.200000e+02, 2.600000e+00, 1.000000e+00, 3.600000e+01],\n",
       "       [7.225000e+00, 2.400000e+00, 1.000000e+00, 2.380000e+01],\n",
       "       [2.775000e+01, 2.600000e+00, 1.000000e+00, 3.600000e+01],\n",
       "       [7.854200e+00, 1.000000e+00, 0.000000e+00, 3.100000e+01],\n",
       "       [2.772080e+01, 4.000000e+00, 1.000000e+00, 1.760000e+01],\n",
       "       [9.825000e+00, 2.600000e+00, 0.000000e+00, 2.100000e+01],\n",
       "       [7.629200e+00, 1.600000e+00, 0.000000e+00, 2.400000e+01],\n",
       "       [8.662500e+00, 1.800000e+00, 1.000000e+00, 2.000000e+01],\n",
       "       [3.350000e+01, 2.000000e+00, 1.000000e+00, 6.100000e+01],\n",
       "       [8.050000e+00, 1.800000e+00, 0.000000e+00, 2.120000e+01],\n",
       "       [5.590000e+01, 1.800000e+00, 0.000000e+00, 3.900000e+01],\n",
       "       [2.400000e+01, 2.200000e+00, 0.000000e+00, 2.800000e+01],\n",
       "       [7.879200e+00, 1.800000e+00, 0.000000e+00, 2.420000e+01],\n",
       "       [9.350000e+01, 3.400000e+00, 0.000000e+00, 3.000000e+01],\n",
       "       [3.250000e+01, 2.200000e+00, 0.000000e+00, 3.400000e+01],\n",
       "       [6.955000e+01, 3.000000e+00, 0.000000e+00, 3.140000e+01],\n",
       "       [8.050000e+00, 3.000000e+00, 1.000000e+00, 3.560000e+01],\n",
       "       [2.558750e+01, 2.600000e+00, 1.000000e+00, 4.700000e+01],\n",
       "       [7.895800e+00, 2.000000e+00, 1.000000e+00, 2.720000e+01],\n",
       "       [7.672920e+01, 3.400000e+00, 1.000000e+00, 2.700000e+01],\n",
       "       [7.741700e+00, 2.200000e+00, 1.000000e+00, 2.500000e+01],\n",
       "       [7.250000e+00, 2.600000e+00, 1.000000e+00, 2.200000e+01],\n",
       "       [9.225000e+00, 1.200000e+00, 1.000000e+00, 2.300000e+01],\n",
       "       [7.775000e+00, 3.000000e+00, 1.000000e+00, 1.800000e+01],\n",
       "       [6.930000e+01, 2.600000e+00, 0.000000e+00, 2.400000e+01],\n",
       "       [7.229200e+00, 1.200000e+00, 0.000000e+00, 1.500000e+01],\n",
       "       [7.250000e+00, 2.800000e+00, 1.000000e+00, 3.000000e+01],\n",
       "       [1.450000e+01, 2.400000e+00, 0.000000e+00, 4.700000e+01],\n",
       "       [7.829200e+00, 1.800000e+00, 0.000000e+00, 2.970000e+01],\n",
       "       [8.112500e+00, 3.000000e+00, 1.000000e+00, 3.380000e+01],\n",
       "       [8.050000e+00, 1.800000e+00, 1.000000e+00, 1.600000e+01],\n",
       "       [7.800000e+00, 1.800000e+00, 1.000000e+00, 2.100000e+01],\n",
       "       [7.826670e+01, 3.600000e+00, 0.000000e+00, 5.200000e+01],\n",
       "       [1.050000e+01, 1.000000e+00, 0.000000e+00, 5.000000e+01],\n",
       "       [8.050000e+00, 1.800000e+00, 1.000000e+00, 5.000000e+01],\n",
       "       [8.050000e+00, 3.000000e+00, 1.000000e+00, 3.560000e+01],\n",
       "       [7.229200e+00, 2.800000e+00, 1.000000e+00, 1.700000e+01],\n",
       "       [3.000000e+01, 2.600000e+00, 1.000000e+00, 8.000000e+01],\n",
       "       [8.050000e+00, 3.000000e+00, 1.000000e+00, 3.560000e+01],\n",
       "       [1.300000e+01, 1.800000e+00, 0.000000e+00, 2.400000e+01],\n",
       "       [2.057500e+01, 1.000000e+00, 1.000000e+00, 2.600000e+01],\n",
       "       [4.157920e+01, 3.000000e+00, 0.000000e+00, 3.000000e+00],\n",
       "       [8.650000e+01, 2.600000e+00, 0.000000e+00, 1.600000e+01],\n",
       "       [2.655000e+01, 1.400000e+00, 1.000000e+00, 4.500000e+01],\n",
       "       [1.247500e+01, 2.000000e+00, 0.000000e+00, 3.000000e+01],\n",
       "       [1.017080e+01, 3.400000e+00, 1.000000e+00, 1.900000e+01],\n",
       "       [9.000000e+01, 3.400000e+00, 0.000000e+00, 3.500000e+01],\n",
       "       [1.345000e+02, 2.600000e+00, 0.000000e+00, 4.000000e+01],\n",
       "       [7.895800e+00, 2.000000e+00, 1.000000e+00, 2.600000e+01],\n",
       "       [4.690000e+01, 1.400000e+00, 0.000000e+00, 1.000000e+00],\n",
       "       [5.049580e+01, 1.800000e+00, 1.000000e+00, 3.100000e+01],\n",
       "       [7.895800e+00, 1.600000e+00, 1.000000e+00, 2.200000e+01],\n",
       "       [1.465208e+02, 2.600000e+00, 0.000000e+00, 2.458400e+01],\n",
       "       [6.117500e+01, 2.600000e+00, 1.000000e+00, 4.600000e+01],\n",
       "       [3.550000e+01, 1.000000e+00, 1.000000e+00, 4.500000e+01],\n",
       "       [8.315830e+01, 3.600000e+00, 0.000000e+00, 3.900000e+01],\n",
       "       [1.247500e+01, 1.600000e+00, 0.000000e+00, 5.000000e+00],\n",
       "       [1.386250e+01, 2.200000e+00, 1.000000e+00, 4.680000e+01],\n",
       "       [9.350000e+00, 3.400000e+00, 0.000000e+00, 1.800000e+01],\n",
       "       [2.235830e+01, 1.000000e+00, 0.000000e+00, 2.160000e+01],\n",
       "       [3.940000e+01, 1.800000e+00, 0.000000e+00, 1.600000e+01],\n",
       "       [2.790000e+01, 2.400000e+00, 0.000000e+00, 1.000000e+01],\n",
       "       [2.600000e+01, 2.600000e+00, 1.000000e+00, 3.500000e+01],\n",
       "       [6.495800e+00, 4.000000e+00, 1.000000e+00, 1.800000e+01],\n",
       "       [8.050000e+00, 3.000000e+00, 1.000000e+00, 3.560000e+01],\n",
       "       [9.845800e+00, 2.600000e+00, 1.000000e+00, 2.000000e+01],\n",
       "       [7.826670e+01, 3.200000e+00, 0.000000e+00, 5.400000e+01],\n",
       "       [8.050000e+00, 1.800000e+00, 1.000000e+00, 5.550000e+01],\n",
       "       [7.775000e+00, 2.200000e+00, 0.000000e+00, 1.800000e+01],\n",
       "       [1.050000e+01, 1.000000e+00, 0.000000e+00, 5.000000e+01],\n",
       "       [7.650000e+00, 1.400000e+00, 0.000000e+00, 2.100000e+01],\n",
       "       [1.950000e+01, 2.400000e+00, 0.000000e+00, 4.100000e+01],\n",
       "       [1.550000e+01, 2.200000e+00, 1.000000e+00, 4.000000e+01],\n",
       "       [1.600000e+01, 2.000000e+00, 0.000000e+00, 5.500000e+01],\n",
       "       [1.336500e+02, 2.600000e+00, 0.000000e+00, 4.420000e+01],\n",
       "       [5.649580e+01, 1.800000e+00, 1.000000e+00, 3.200000e+01],\n",
       "       [1.648667e+02, 1.800000e+00, 0.000000e+00, 4.500000e+01],\n",
       "       [1.574170e+01, 2.600000e+00, 0.000000e+00, 1.000000e+00],\n",
       "       [2.113375e+02, 2.400000e+00, 0.000000e+00, 4.300000e+01],\n",
       "       [1.050000e+01, 2.400000e+00, 1.000000e+00, 3.100000e+01],\n",
       "       [1.050000e+01, 2.200000e+00, 0.000000e+00, 3.400000e+01],\n",
       "       [7.495800e+00, 2.600000e+00, 1.000000e+00, 3.600000e+01],\n",
       "       [7.100000e+01, 3.000000e+00, 1.000000e+00, 7.000000e+01],\n",
       "       [9.500000e+00, 2.600000e+00, 1.000000e+00, 2.000000e+01],\n",
       "       [1.050000e+01, 2.400000e+00, 0.000000e+00, 2.100000e+01],\n",
       "       [8.662500e+00, 4.000000e+00, 1.000000e+00, 2.700000e+01],\n",
       "       [7.895800e+00, 2.000000e+00, 1.000000e+00, 2.720000e+01],\n",
       "       [7.895800e+00, 2.000000e+00, 1.000000e+00, 2.720000e+01],\n",
       "       [2.475208e+02, 2.400000e+00, 0.000000e+00, 5.000000e+01],\n",
       "       [5.310000e+01, 1.800000e+00, 1.000000e+00, 3.700000e+01],\n",
       "       [0.000000e+00, 3.400000e+00, 1.000000e+00, 3.700000e+01],\n",
       "       [7.750000e+00, 1.200000e+00, 0.000000e+00, 2.200000e+01],\n",
       "       [8.712500e+00, 2.600000e+00, 1.000000e+00, 2.160000e+01],\n",
       "       [8.217080e+01, 3.400000e+00, 1.000000e+00, 2.800000e+01],\n",
       "       [7.854200e+00, 1.800000e+00, 1.000000e+00, 4.800000e+01],\n",
       "       [9.350000e+00, 1.600000e+00, 1.000000e+00, 2.200000e+01],\n",
       "       [7.965000e+01, 3.400000e+00, 0.000000e+00, 1.800000e+01],\n",
       "       [6.858300e+00, 3.000000e+00, 1.000000e+00, 2.880000e+01],\n",
       "       [1.555000e+01, 2.400000e+00, 1.000000e+00, 3.600000e+01],\n",
       "       [2.100000e+01, 2.600000e+00, 1.000000e+00, 3.400000e+01],\n",
       "       [8.516700e+00, 1.600000e+00, 0.000000e+00, 4.200000e-01],\n",
       "       [5.700000e+01, 1.800000e+00, 1.000000e+00, 3.100000e+01],\n",
       "       [2.655000e+01, 2.200000e+00, 1.000000e+00, 3.400000e+01],\n",
       "       [1.505000e+01, 2.800000e+00, 1.000000e+00, 3.130000e+01],\n",
       "       [1.450000e+01, 3.000000e+00, 1.000000e+00, 2.930000e+01],\n",
       "       [2.628330e+01, 2.000000e+00, 0.000000e+00, 1.900000e+01],\n",
       "       [5.649580e+01, 2.200000e+00, 1.000000e+00, 3.220000e+01],\n",
       "       [2.025000e+01, 2.800000e+00, 1.000000e+00, 1.600000e+01],\n",
       "       [1.200000e+02, 2.400000e+00, 0.000000e+00, 1.400000e+01],\n",
       "       [8.050000e+00, 1.800000e+00, 1.000000e+00, 3.400000e+01],\n",
       "       [1.610000e+01, 2.400000e+00, 1.000000e+00, 2.850000e+01],\n",
       "       [1.610000e+01, 2.200000e+00, 0.000000e+00, 2.600000e+01],\n",
       "       [7.854200e+00, 1.000000e+00, 0.000000e+00, 1.900000e+01],\n",
       "       [7.225000e+00, 1.200000e+00, 0.000000e+00, 1.500000e+01],\n",
       "       [7.920000e+01, 3.000000e+00, 0.000000e+00, 4.180000e+01],\n",
       "       [7.925000e+00, 2.000000e+00, 1.000000e+00, 3.200000e+01],\n",
       "       [5.200000e+01, 1.800000e+00, 1.000000e+00, 4.700000e+01],\n",
       "       [5.123292e+02, 2.400000e+00, 1.000000e+00, 3.600000e+01],\n",
       "       [8.000000e+01, 3.200000e+00, 0.000000e+00, 6.200000e+01],\n",
       "       [2.600000e+01, 2.200000e+00, 0.000000e+00, 4.200000e+01],\n",
       "       [1.300000e+01, 2.600000e+00, 0.000000e+00, 4.000000e+01],\n",
       "       [7.787500e+00, 1.600000e+00, 0.000000e+00, 2.690000e+01],\n",
       "       [1.300000e+01, 1.600000e+00, 1.000000e+00, 3.000000e+01],\n",
       "       [1.050000e+01, 1.400000e+00, 1.000000e+00, 7.000000e+01],\n",
       "       [2.600000e+01, 2.000000e+00, 1.000000e+00, 4.400000e+01],\n",
       "       [1.356333e+02, 2.600000e+00, 0.000000e+00, 3.500000e+01],\n",
       "       [1.300000e+01, 1.800000e+00, 1.000000e+00, 4.800000e+01],\n",
       "       [8.050000e+00, 3.000000e+00, 1.000000e+00, 3.560000e+01],\n",
       "       [2.600000e+01, 2.800000e+00, 0.000000e+00, 2.900000e+01],\n",
       "       [4.690000e+01, 1.400000e+00, 0.000000e+00, 1.400000e+01],\n",
       "       [7.854200e+00, 2.000000e+00, 1.000000e+00, 2.800000e+01],\n",
       "       [7.920000e+01, 3.400000e+00, 1.000000e+00, 2.400000e+01],\n",
       "       [1.610000e+01, 2.400000e+00, 1.000000e+00, 3.000000e+01],\n",
       "       [2.600000e+01, 2.600000e+00, 0.000000e+00, 2.000000e+00],\n",
       "       [1.445420e+01, 1.800000e+00, 0.000000e+00, 1.450000e+01],\n",
       "       [7.229200e+00, 2.400000e+00, 1.000000e+00, 2.380000e+01],\n",
       "       [0.000000e+00, 1.600000e+00, 1.000000e+00, 2.500000e+01],\n",
       "       [2.600000e+01, 2.800000e+00, 0.000000e+00, 2.400000e+01],\n",
       "       [7.750000e+00, 1.800000e+00, 1.000000e+00, 3.220000e+01],\n",
       "       [4.157920e+01, 1.600000e+00, 1.000000e+00, 2.500000e+01],\n",
       "       [8.050000e+00, 1.800000e+00, 1.000000e+00, 2.000000e+01],\n",
       "       [1.050000e+01, 3.200000e+00, 0.000000e+00, 1.700000e+01],\n",
       "       [1.300000e+01, 2.000000e+00, 0.000000e+00, 2.400000e+01],\n",
       "       [1.050000e+01, 5.000000e+00, 1.000000e+00, 3.200000e+01],\n",
       "       [2.546670e+01, 0.000000e+00, 1.000000e+00, 3.420000e+01],\n",
       "       [7.750000e+00, 1.600000e+00, 0.000000e+00, 2.690000e+01],\n",
       "       [4.690000e+01, 1.800000e+00, 0.000000e+00, 4.300000e+01],\n",
       "       [5.692920e+01, 1.800000e+00, 0.000000e+00, 3.000000e+01],\n",
       "       [8.683300e+00, 1.800000e+00, 0.000000e+00, 3.100000e+01],\n",
       "       [8.050000e+00, 2.600000e+00, 1.000000e+00, 1.800000e+01],\n",
       "       [1.132750e+02, 3.000000e+00, 1.000000e+00, 5.800000e+01],\n",
       "       [7.229200e+00, 2.800000e+00, 1.000000e+00, 3.000000e+01],\n",
       "       [1.590000e+01, 2.200000e+00, 0.000000e+00, 3.000000e+00],\n",
       "       [7.895800e+00, 2.000000e+00, 1.000000e+00, 2.720000e+01],\n",
       "       [3.437500e+01, 1.800000e+00, 0.000000e+00, 9.000000e+00],\n",
       "       [7.550000e+00, 1.400000e+00, 0.000000e+00, 2.300000e+01],\n",
       "       [2.790000e+01, 1.600000e+00, 1.000000e+00, 4.000000e+01],\n",
       "       [5.310000e+01, 1.200000e+00, 1.000000e+00, 2.700000e+01],\n",
       "       [7.250000e+00, 2.400000e+00, 1.000000e+00, 3.450000e+01],\n",
       "       [2.775000e+01, 2.000000e+00, 1.000000e+00, 3.000000e+01],\n",
       "       [8.300000e+00, 2.600000e+00, 1.000000e+00, 1.800000e+01],\n",
       "       [7.054200e+00, 2.800000e+00, 1.000000e+00, 1.700000e+01],\n",
       "       [1.356333e+02, 2.400000e+00, 1.000000e+00, 2.200000e+01],\n",
       "       [2.600000e+01, 2.200000e+00, 1.000000e+00, 3.370000e+01],\n",
       "       [7.737500e+00, 1.600000e+00, 0.000000e+00, 2.690000e+01],\n",
       "       [5.692920e+01, 1.800000e+00, 1.000000e+00, 4.900000e+01],\n",
       "       [7.750000e+00, 1.800000e+00, 1.000000e+00, 4.050000e+01],\n",
       "       [5.186250e+01, 2.200000e+00, 0.000000e+00, 4.660000e+01],\n",
       "       [7.225000e+00, 2.800000e+00, 1.000000e+00, 4.000000e+01],\n",
       "       [1.132750e+02, 2.400000e+00, 0.000000e+00, 2.300000e+01],\n",
       "       [3.968750e+01, 1.800000e+00, 1.000000e+00, 1.600000e+01],\n",
       "       [1.150000e+01, 5.000000e+00, 1.000000e+00, 1.800000e+01],\n",
       "       [1.950000e+01, 2.800000e+00, 0.000000e+00, 1.300000e+01],\n",
       "       [3.850000e+01, 1.000000e+00, 1.000000e+00, 4.700000e+01],\n",
       "       [9.107920e+01, 3.400000e+00, 1.000000e+00, 2.500000e+01],\n",
       "       [2.630000e+02, 2.400000e+00, 1.000000e+00, 6.400000e+01],\n",
       "       [8.662500e+00, 1.800000e+00, 1.000000e+00, 1.700000e+01],\n",
       "       [7.729200e+00, 1.800000e+00, 1.000000e+00, 3.000000e+01],\n",
       "       [7.750000e+00, 3.000000e+00, 1.000000e+00, 7.050000e+01],\n",
       "       [3.100000e+01, 1.000000e+00, 1.000000e+00, 4.000000e+01],\n",
       "       [9.000000e+00, 1.800000e+00, 1.000000e+00, 4.700000e+01],\n",
       "       [7.895800e+00, 1.600000e+00, 1.000000e+00, 2.900000e+01],\n",
       "       [7.795830e+01, 3.200000e+00, 0.000000e+00, 6.300000e+01],\n",
       "       [7.250000e+00, 1.400000e+00, 0.000000e+00, 2.200000e+01],\n",
       "       [6.930000e+01, 2.600000e+00, 0.000000e+00, 2.400000e+01],\n",
       "       [6.955000e+01, 3.000000e+00, 0.000000e+00, 3.140000e+01],\n",
       "       [3.127500e+01, 1.800000e+00, 0.000000e+00, 9.000000e+00],\n",
       "       [1.610000e+01, 3.200000e+00, 1.000000e+00, 2.980000e+01],\n",
       "       [1.515500e+02, 2.400000e+00, 0.000000e+00, 2.500000e+01],\n",
       "       [7.895800e+00, 2.000000e+00, 1.000000e+00, 2.720000e+01],\n",
       "       [2.600000e+01, 2.800000e+00, 0.000000e+00, 2.500000e+01],\n",
       "       [7.225000e+00, 2.800000e+00, 1.000000e+00, 4.550000e+01],\n",
       "       [3.127500e+01, 2.600000e+00, 0.000000e+00, 6.000000e+00],\n",
       "       [8.050000e+00, 1.800000e+00, 0.000000e+00, 2.120000e+01],\n",
       "       [1.780000e+01, 3.000000e+00, 1.000000e+00, 2.500000e+01],\n",
       "       [1.585000e+01, 2.400000e+00, 0.000000e+00, 3.300000e+01],\n",
       "       [2.790000e+01, 1.400000e+00, 0.000000e+00, 4.500000e+01],\n",
       "       [5.200000e+01, 1.800000e+00, 0.000000e+00, 3.500000e+01],\n",
       "       [7.054200e+00, 2.800000e+00, 1.000000e+00, 5.100000e+01],\n",
       "       [1.350000e+01, 2.600000e+00, 0.000000e+00, 4.500000e+01],\n",
       "       [8.050000e+00, 1.800000e+00, 1.000000e+00, 2.100000e+01],\n",
       "       [1.550000e+01, 2.800000e+00, 1.000000e+00, 3.000000e+01],\n",
       "       [7.350000e+01, 2.600000e+00, 1.000000e+00, 2.100000e+01],\n",
       "       [3.007080e+01, 2.200000e+00, 1.000000e+00, 3.250000e+01],\n",
       "       [7.775000e+00, 1.200000e+00, 0.000000e+00, 2.200000e+01],\n",
       "       [3.050000e+01, 1.200000e+00, 1.000000e+00, 4.440000e+01],\n",
       "       [1.200000e+02, 2.400000e+00, 0.000000e+00, 1.100000e+01],\n",
       "       [3.700420e+01, 1.800000e+00, 0.000000e+00, 1.000000e+00],\n",
       "       [3.300000e+01, 1.800000e+00, 0.000000e+00, 6.000000e+00],\n",
       "       [7.854200e+00, 1.000000e+00, 0.000000e+00, 1.400000e+01],\n",
       "       [3.675000e+01, 1.800000e+00, 0.000000e+00, 8.000000e+00],\n",
       "       [7.925000e+00, 2.000000e+00, 0.000000e+00, 2.700000e+01]])"
      ]
     },
     "execution_count": 139,
     "metadata": {},
     "output_type": "execute_result"
    }
   ],
   "source": []
  },
  {
   "cell_type": "code",
   "execution_count": 243,
   "metadata": {},
   "outputs": [],
   "source": [
    "df_imputed = pd.DataFrame(imputed, columns = X_train1.columns)"
   ]
  },
  {
   "cell_type": "code",
   "execution_count": 244,
   "metadata": {},
   "outputs": [],
   "source": [
    "round(df_imputed, 0)\n",
    "\n",
    "X_train8 = df_imputed[['fare', 'deck', 'pclass', 'age']]"
   ]
  },
  {
   "cell_type": "code",
   "execution_count": 119,
   "metadata": {},
   "outputs": [
    {
     "data": {
      "text/plain": [
       "array([[ 0.87504426, -0.07492238, -0.44011087, ..., -0.05530017,\n",
       "        -0.83072681,  1.11241272],\n",
       "       [ 0.68322452,  1.77925821, -1.2558269 , ..., -0.00572745,\n",
       "         0.62128827, -0.66133682],\n",
       "       [ 0.26926589, -2.15623216, -0.18500212, ...,  0.24067539,\n",
       "         1.02651351,  1.14127125],\n",
       "       ...,\n",
       "       [ 0.19410805,  0.29714296,  0.15308088, ..., -2.33408732,\n",
       "         1.32710913, -0.58628564],\n",
       "       [-0.38434543,  0.44079525,  1.10091111, ...,  0.04297165,\n",
       "         1.50510702, -1.40027549],\n",
       "       [ 0.79586468,  1.16184738,  0.71978085, ..., -1.28007892,\n",
       "         1.05350373, -1.13716495]])"
      ]
     },
     "execution_count": 119,
     "metadata": {},
     "output_type": "execute_result"
    }
   ],
   "source": [
    "X_train1"
   ]
  },
  {
   "cell_type": "code",
   "execution_count": 106,
   "metadata": {},
   "outputs": [],
   "source": [
    "from sklearn.model_selection import GridSearchCV, train_test_split, learning_curve\n",
    "#from sklearn.pipeline import make_pipeline\n",
    "\n",
    "from sklearn.tree import DecisionTreeClassifier, plot_tree\n",
    "\n",
    "from sklearn.metrics import (accuracy_score, classification_report,ConfusionMatrixDisplay,\n",
    "                             confusion_matrix, SCORERS)"
   ]
  },
  {
   "cell_type": "code",
   "execution_count": 155,
   "metadata": {},
   "outputs": [],
   "source": [
    "from sklearn.model_selection import cross_val_score\n",
    "from sklearn.datasets import make_blobs\n",
    "from sklearn.ensemble import RandomForestClassifier\n",
    "from sklearn.ensemble import ExtraTreesClassifier\n",
    "from sklearn.tree import DecisionTreeClassifier\n",
    "from sklearn.ensemble import RandomForestClassifier\n",
    "clf = RandomForestClassifier(max_depth=2, random_state=42)\n",
    "tree = clf.fit(X_train1, y_train)\n",
    "RandomForestClassifier()\n",
    "y_pred = clf.predict(X_test1)"
   ]
  },
  {
   "cell_type": "code",
   "execution_count": 169,
   "metadata": {},
   "outputs": [
    {
     "data": {
      "text/plain": [
       "array([[ 26.    ,   2.8   ,   0.    ,  29.    ],\n",
       "       [  7.3125,   2.4   ,   1.    ,  34.5   ],\n",
       "       [164.8667,   1.8   ,   0.    ,  31.    ],\n",
       "       ...,\n",
       "       [ 21.075 ,   3.2   ,   0.    ,   2.    ],\n",
       "       [ 10.5   ,   1.6   ,   1.    ,  30.    ],\n",
       "       [  6.2375,   2.4   ,   1.    ,  61.    ]])"
      ]
     },
     "execution_count": 169,
     "metadata": {},
     "output_type": "execute_result"
    }
   ],
   "source": [
    "X_train1"
   ]
  },
  {
   "cell_type": "code",
   "execution_count": 153,
   "metadata": {},
   "outputs": [
    {
     "data": {
      "text/plain": [
       "246    False\n",
       "588     True\n",
       "472     True\n",
       "71     False\n",
       "654    False\n",
       "       ...  \n",
       "827     True\n",
       "720     True\n",
       "14     False\n",
       "549     True\n",
       "216     True\n",
       "Name: survived, Length: 223, dtype: bool"
      ]
     },
     "execution_count": 153,
     "metadata": {},
     "output_type": "execute_result"
    }
   ],
   "source": [
    "y_pred == y_test"
   ]
  },
  {
   "cell_type": "code",
   "execution_count": 107,
   "metadata": {},
   "outputs": [],
   "source": []
  },
  {
   "cell_type": "code",
   "execution_count": 118,
   "metadata": {},
   "outputs": [
    {
     "data": {
      "text/plain": [
       "(100, 20)"
      ]
     },
     "execution_count": 118,
     "metadata": {},
     "output_type": "execute_result"
    }
   ],
   "source": [
    "X_train1.shape"
   ]
  },
  {
   "cell_type": "code",
   "execution_count": 154,
   "metadata": {},
   "outputs": [
    {
     "ename": "AttributeError",
     "evalue": "'RandomForestClassifier' object has no attribute 'tree_'",
     "output_type": "error",
     "traceback": [
      "\u001b[1;31m---------------------------------------------------------------------------\u001b[0m",
      "\u001b[1;31mAttributeError\u001b[0m                            Traceback (most recent call last)",
      "Cell \u001b[1;32mIn[154], line 6\u001b[0m\n\u001b[0;32m      2\u001b[0m model\u001b[39m.\u001b[39mfit(X_train1, y_train)\n\u001b[0;32m      4\u001b[0m plt\u001b[39m.\u001b[39mfigure(figsize\u001b[39m=\u001b[39m(\u001b[39m15\u001b[39m, \u001b[39m8\u001b[39m))\n\u001b[1;32m----> 6\u001b[0m plot_tree(model,\n\u001b[0;32m      7\u001b[0m           feature_names\u001b[39m=\u001b[39;49mX_train\u001b[39m.\u001b[39;49mcolumns,\n\u001b[0;32m      8\u001b[0m           filled\u001b[39m=\u001b[39;49m\u001b[39mTrue\u001b[39;49;00m)\n\u001b[0;32m      9\u001b[0m plt\u001b[39m.\u001b[39mshow()\n",
      "File \u001b[1;32mc:\\Users\\Alberto\\anaconda3\\lib\\site-packages\\sklearn\\tree\\_export.py:194\u001b[0m, in \u001b[0;36mplot_tree\u001b[1;34m(decision_tree, max_depth, feature_names, class_names, label, filled, impurity, node_ids, proportion, rounded, precision, ax, fontsize)\u001b[0m\n\u001b[0;32m    179\u001b[0m check_is_fitted(decision_tree)\n\u001b[0;32m    181\u001b[0m exporter \u001b[39m=\u001b[39m _MPLTreeExporter(\n\u001b[0;32m    182\u001b[0m     max_depth\u001b[39m=\u001b[39mmax_depth,\n\u001b[0;32m    183\u001b[0m     feature_names\u001b[39m=\u001b[39mfeature_names,\n\u001b[1;32m   (...)\u001b[0m\n\u001b[0;32m    192\u001b[0m     fontsize\u001b[39m=\u001b[39mfontsize,\n\u001b[0;32m    193\u001b[0m )\n\u001b[1;32m--> 194\u001b[0m \u001b[39mreturn\u001b[39;00m exporter\u001b[39m.\u001b[39;49mexport(decision_tree, ax\u001b[39m=\u001b[39;49max)\n",
      "File \u001b[1;32mc:\\Users\\Alberto\\anaconda3\\lib\\site-packages\\sklearn\\tree\\_export.py:655\u001b[0m, in \u001b[0;36m_MPLTreeExporter.export\u001b[1;34m(self, decision_tree, ax)\u001b[0m\n\u001b[0;32m    653\u001b[0m ax\u001b[39m.\u001b[39mclear()\n\u001b[0;32m    654\u001b[0m ax\u001b[39m.\u001b[39mset_axis_off()\n\u001b[1;32m--> 655\u001b[0m my_tree \u001b[39m=\u001b[39m \u001b[39mself\u001b[39m\u001b[39m.\u001b[39m_make_tree(\u001b[39m0\u001b[39m, decision_tree\u001b[39m.\u001b[39;49mtree_, decision_tree\u001b[39m.\u001b[39mcriterion)\n\u001b[0;32m    656\u001b[0m draw_tree \u001b[39m=\u001b[39m buchheim(my_tree)\n\u001b[0;32m    658\u001b[0m \u001b[39m# important to make sure we're still\u001b[39;00m\n\u001b[0;32m    659\u001b[0m \u001b[39m# inside the axis after drawing the box\u001b[39;00m\n\u001b[0;32m    660\u001b[0m \u001b[39m# this makes sense because the width of a box\u001b[39;00m\n\u001b[0;32m    661\u001b[0m \u001b[39m# is about the same as the distance between boxes\u001b[39;00m\n",
      "\u001b[1;31mAttributeError\u001b[0m: 'RandomForestClassifier' object has no attribute 'tree_'"
     ]
    },
    {
     "data": {
      "image/png": "[encoded data removed]",
      "text/plain": [
       "<Figure size 1500x800 with 1 Axes>"
      ]
     },
     "metadata": {},
     "output_type": "display_data"
    }
   ],
   "source": [
    "model = RandomForestClassifier(max_depth = 5) \n",
    "model.fit(X_train1, y_train)\n",
    "\n",
    "plt.figure(figsize=(15, 8))\n",
    "\n",
    "plot_tree(model,\n",
    "          feature_names=X_train.columns,\n",
    "          filled=True)\n",
    "plt.show()\n"
   ]
  },
  {
   "cell_type": "code",
   "execution_count": 156,
   "metadata": {},
   "outputs": [],
   "source": [
    "def give_f_imp(model,imputed):\n",
    "\n",
    "    f_importance = pd.DataFrame({'feature_names': X_train.columns,\n",
    "                                 'importance': model.feature_importances_})\n",
    "    display(f_importance)\n",
    "\n",
    "    plt.figure(figsize=(8, 5))\n",
    "    plt.title('Feature importance')\n",
    "    sns.barplot(data=f_importance, x='feature_names', y='importance')\n",
    "    plt.xticks(rotation='vertical')\n",
    "    plt.show()\n",
    "    pass"
   ]
  },
  {
   "cell_type": "code",
   "execution_count": 157,
   "metadata": {},
   "outputs": [
    {
     "data": {
      "text/html": [
       "<div>\n",
       "<style scoped>\n",
       "    .dataframe tbody tr th:only-of-type {\n",
       "        vertical-align: middle;\n",
       "    }\n",
       "\n",
       "    .dataframe tbody tr th {\n",
       "        vertical-align: top;\n",
       "    }\n",
       "\n",
       "    .dataframe thead th {\n",
       "        text-align: right;\n",
       "    }\n",
       "</style>\n",
       "<table border=\"1\" class=\"dataframe\">\n",
       "  <thead>\n",
       "    <tr style=\"text-align: right;\">\n",
       "      <th></th>\n",
       "      <th>feature_names</th>\n",
       "      <th>importance</th>\n",
       "    </tr>\n",
       "  </thead>\n",
       "  <tbody>\n",
       "    <tr>\n",
       "      <th>0</th>\n",
       "      <td>fare</td>\n",
       "      <td>0.288461</td>\n",
       "    </tr>\n",
       "    <tr>\n",
       "      <th>1</th>\n",
       "      <td>deck</td>\n",
       "      <td>0.065529</td>\n",
       "    </tr>\n",
       "    <tr>\n",
       "      <th>2</th>\n",
       "      <td>adult_male</td>\n",
       "      <td>0.519454</td>\n",
       "    </tr>\n",
       "    <tr>\n",
       "      <th>3</th>\n",
       "      <td>age</td>\n",
       "      <td>0.126556</td>\n",
       "    </tr>\n",
       "  </tbody>\n",
       "</table>\n",
       "</div>"
      ],
      "text/plain": [
       "  feature_names  importance\n",
       "0          fare    0.288461\n",
       "1          deck    0.065529\n",
       "2    adult_male    0.519454\n",
       "3           age    0.126556"
      ]
     },
     "metadata": {},
     "output_type": "display_data"
    },
    {
     "data": {
      "image/png": "[encoded data removed]",
      "text/plain": [
       "<Figure size 800x500 with 1 Axes>"
      ]
     },
     "metadata": {},
     "output_type": "display_data"
    }
   ],
   "source": [
    "give_f_imp(model,imputed)"
   ]
  },
  {
   "cell_type": "code",
   "execution_count": 252,
   "metadata": {},
   "outputs": [
    {
     "data": {
      "text/html": [
       "<div>\n",
       "<style scoped>\n",
       "    .dataframe tbody tr th:only-of-type {\n",
       "        vertical-align: middle;\n",
       "    }\n",
       "\n",
       "    .dataframe tbody tr th {\n",
       "        vertical-align: top;\n",
       "    }\n",
       "\n",
       "    .dataframe thead th {\n",
       "        text-align: right;\n",
       "    }\n",
       "</style>\n",
       "<table border=\"1\" class=\"dataframe\">\n",
       "  <thead>\n",
       "    <tr style=\"text-align: right;\">\n",
       "      <th></th>\n",
       "      <th>fare</th>\n",
       "      <th>deck</th>\n",
       "      <th>pclass</th>\n",
       "      <th>age</th>\n",
       "    </tr>\n",
       "  </thead>\n",
       "  <tbody>\n",
       "    <tr>\n",
       "      <th>246</th>\n",
       "      <td>7.7750</td>\n",
       "      <td>NaN</td>\n",
       "      <td>3</td>\n",
       "      <td>25.0</td>\n",
       "    </tr>\n",
       "    <tr>\n",
       "      <th>588</th>\n",
       "      <td>8.0500</td>\n",
       "      <td>NaN</td>\n",
       "      <td>3</td>\n",
       "      <td>22.0</td>\n",
       "    </tr>\n",
       "    <tr>\n",
       "      <th>472</th>\n",
       "      <td>27.7500</td>\n",
       "      <td>NaN</td>\n",
       "      <td>2</td>\n",
       "      <td>33.0</td>\n",
       "    </tr>\n",
       "    <tr>\n",
       "      <th>71</th>\n",
       "      <td>46.9000</td>\n",
       "      <td>NaN</td>\n",
       "      <td>3</td>\n",
       "      <td>16.0</td>\n",
       "    </tr>\n",
       "    <tr>\n",
       "      <th>654</th>\n",
       "      <td>6.7500</td>\n",
       "      <td>NaN</td>\n",
       "      <td>3</td>\n",
       "      <td>18.0</td>\n",
       "    </tr>\n",
       "    <tr>\n",
       "      <th>...</th>\n",
       "      <td>...</td>\n",
       "      <td>...</td>\n",
       "      <td>...</td>\n",
       "      <td>...</td>\n",
       "    </tr>\n",
       "    <tr>\n",
       "      <th>827</th>\n",
       "      <td>37.0042</td>\n",
       "      <td>NaN</td>\n",
       "      <td>2</td>\n",
       "      <td>1.0</td>\n",
       "    </tr>\n",
       "    <tr>\n",
       "      <th>720</th>\n",
       "      <td>33.0000</td>\n",
       "      <td>NaN</td>\n",
       "      <td>2</td>\n",
       "      <td>6.0</td>\n",
       "    </tr>\n",
       "    <tr>\n",
       "      <th>14</th>\n",
       "      <td>7.8542</td>\n",
       "      <td>NaN</td>\n",
       "      <td>3</td>\n",
       "      <td>14.0</td>\n",
       "    </tr>\n",
       "    <tr>\n",
       "      <th>549</th>\n",
       "      <td>36.7500</td>\n",
       "      <td>NaN</td>\n",
       "      <td>2</td>\n",
       "      <td>8.0</td>\n",
       "    </tr>\n",
       "    <tr>\n",
       "      <th>216</th>\n",
       "      <td>7.9250</td>\n",
       "      <td>NaN</td>\n",
       "      <td>3</td>\n",
       "      <td>27.0</td>\n",
       "    </tr>\n",
       "  </tbody>\n",
       "</table>\n",
       "<p>223 rows × 4 columns</p>\n",
       "</div>"
      ],
      "text/plain": [
       "        fare deck  pclass   age\n",
       "246   7.7750  NaN       3  25.0\n",
       "588   8.0500  NaN       3  22.0\n",
       "472  27.7500  NaN       2  33.0\n",
       "71   46.9000  NaN       3  16.0\n",
       "654   6.7500  NaN       3  18.0\n",
       "..       ...  ...     ...   ...\n",
       "827  37.0042  NaN       2   1.0\n",
       "720  33.0000  NaN       2   6.0\n",
       "14    7.8542  NaN       3  14.0\n",
       "549  36.7500  NaN       2   8.0\n",
       "216   7.9250  NaN       3  27.0\n",
       "\n",
       "[223 rows x 4 columns]"
      ]
     },
     "execution_count": 252,
     "metadata": {},
     "output_type": "execute_result"
    }
   ],
   "source": [
    "\n",
    "X_test1"
   ]
  },
  {
   "cell_type": "code",
   "execution_count": 159,
   "metadata": {},
   "outputs": [
    {
     "name": "stdout",
     "output_type": "stream",
     "text": [
      "0.7937219730941704\n"
     ]
    }
   ],
   "source": [
    "y_pred = model.predict(X_test1)\n",
    "\n",
    "score = accuracy_score(y_test,y_pred)\n",
    "print(score)"
   ]
  },
  {
   "cell_type": "code",
   "execution_count": 268,
   "metadata": {},
   "outputs": [
    {
     "name": "stdout",
     "output_type": "stream",
     "text": [
      "0.726457399103139\n"
     ]
    }
   ],
   "source": [
    "print(score)"
   ]
  },
  {
   "cell_type": "code",
   "execution_count": 160,
   "metadata": {},
   "outputs": [],
   "source": [
    "def give_learning_curve(model,X_train,y_train, scoring= 'f1_macro'):\n",
    "    n, train_score, val_score = learning_curve(model, \n",
    "                                               X_train, \n",
    "                                               y_train,\n",
    "                                               cv=5, \n",
    "                                               train_sizes=np.linspace(0.1, 1, 10), \n",
    "                                               scoring=scoring)\n",
    "\n",
    "    lc = pd.DataFrame({'n': n,\n",
    "                      'train score': train_score.mean(axis=1),\n",
    "                      'test score': val_score.mean(axis=1)})\n",
    "    display(lc)\n",
    "    # plot:\n",
    "    \n",
    "    plt.figure(figsize=(8, 5))\n",
    "    plt.title('Learning Curve')\n",
    "    \n",
    "    plt.plot(n, train_score.mean(axis=1), label='train score', color='orange')\n",
    "    plt.plot(n, val_score.mean(axis=1), label='test score', color='green')\n",
    "    \n",
    "    plt.xlabel('n rows')\n",
    "    plt.ylabel(scoring)\n",
    "    plt.ylim([0,1.1])\n",
    "    plt.legend()\n",
    "    plt.show()\n",
    "    pass\n"
   ]
  },
  {
   "cell_type": "code",
   "execution_count": 164,
   "metadata": {},
   "outputs": [
    {
     "data": {
      "text/html": [
       "<div>\n",
       "<style scoped>\n",
       "    .dataframe tbody tr th:only-of-type {\n",
       "        vertical-align: middle;\n",
       "    }\n",
       "\n",
       "    .dataframe tbody tr th {\n",
       "        vertical-align: top;\n",
       "    }\n",
       "\n",
       "    .dataframe thead th {\n",
       "        text-align: right;\n",
       "    }\n",
       "</style>\n",
       "<table border=\"1\" class=\"dataframe\">\n",
       "  <thead>\n",
       "    <tr style=\"text-align: right;\">\n",
       "      <th></th>\n",
       "      <th>n</th>\n",
       "      <th>train score</th>\n",
       "      <th>test score</th>\n",
       "    </tr>\n",
       "  </thead>\n",
       "  <tbody>\n",
       "    <tr>\n",
       "      <th>0</th>\n",
       "      <td>53</td>\n",
       "      <td>1.000000</td>\n",
       "      <td>0.763528</td>\n",
       "    </tr>\n",
       "    <tr>\n",
       "      <th>1</th>\n",
       "      <td>106</td>\n",
       "      <td>0.950943</td>\n",
       "      <td>0.721412</td>\n",
       "    </tr>\n",
       "    <tr>\n",
       "      <th>2</th>\n",
       "      <td>160</td>\n",
       "      <td>0.933750</td>\n",
       "      <td>0.728953</td>\n",
       "    </tr>\n",
       "    <tr>\n",
       "      <th>3</th>\n",
       "      <td>213</td>\n",
       "      <td>0.898592</td>\n",
       "      <td>0.745438</td>\n",
       "    </tr>\n",
       "    <tr>\n",
       "      <th>4</th>\n",
       "      <td>267</td>\n",
       "      <td>0.885393</td>\n",
       "      <td>0.760420</td>\n",
       "    </tr>\n",
       "    <tr>\n",
       "      <th>5</th>\n",
       "      <td>320</td>\n",
       "      <td>0.870000</td>\n",
       "      <td>0.769420</td>\n",
       "    </tr>\n",
       "    <tr>\n",
       "      <th>6</th>\n",
       "      <td>373</td>\n",
       "      <td>0.867560</td>\n",
       "      <td>0.772439</td>\n",
       "    </tr>\n",
       "    <tr>\n",
       "      <th>7</th>\n",
       "      <td>427</td>\n",
       "      <td>0.859953</td>\n",
       "      <td>0.779912</td>\n",
       "    </tr>\n",
       "    <tr>\n",
       "      <th>8</th>\n",
       "      <td>480</td>\n",
       "      <td>0.846250</td>\n",
       "      <td>0.784401</td>\n",
       "    </tr>\n",
       "    <tr>\n",
       "      <th>9</th>\n",
       "      <td>534</td>\n",
       "      <td>0.836330</td>\n",
       "      <td>0.796375</td>\n",
       "    </tr>\n",
       "  </tbody>\n",
       "</table>\n",
       "</div>"
      ],
      "text/plain": [
       "     n  train score  test score\n",
       "0   53     1.000000    0.763528\n",
       "1  106     0.950943    0.721412\n",
       "2  160     0.933750    0.728953\n",
       "3  213     0.898592    0.745438\n",
       "4  267     0.885393    0.760420\n",
       "5  320     0.870000    0.769420\n",
       "6  373     0.867560    0.772439\n",
       "7  427     0.859953    0.779912\n",
       "8  480     0.846250    0.784401\n",
       "9  534     0.836330    0.796375"
      ]
     },
     "metadata": {},
     "output_type": "display_data"
    },
    {
     "data": {
      "image/png": "[encoded data removed]",
      "text/plain": [
       "<Figure size 800x500 with 1 Axes>"
      ]
     },
     "metadata": {},
     "output_type": "display_data"
    }
   ],
   "source": [
    "give_learning_curve(model, X_train1,y_train, scoring='accuracy')"
   ]
  },
  {
   "cell_type": "code",
   "execution_count": 166,
   "metadata": {},
   "outputs": [],
   "source": [
    "def give_confusion_report(model,X_test,y_test):\n",
    "    \n",
    "    pred_test = model.predict(X_test)\n",
    "    cm = confusion_matrix(y_test, pred_test)\n",
    "    \n",
    "    CM = ConfusionMatrixDisplay(confusion_matrix=cm)\n",
    "    CM.plot()\n",
    "    plt.show()\n",
    "    \n",
    "    print(classification_report(y_test,pred_test))\n",
    "    pass "
   ]
  },
  {
   "cell_type": "code",
   "execution_count": 167,
   "metadata": {},
   "outputs": [
    {
     "data": {
      "image/png": "[encoded data removed]",
      "text/plain": [
       "<Figure size 640x480 with 2 Axes>"
      ]
     },
     "metadata": {},
     "output_type": "display_data"
    },
    {
     "name": "stdout",
     "output_type": "stream",
     "text": [
      "              precision    recall  f1-score   support\n",
      "\n",
      "           0       0.81      0.84      0.82       128\n",
      "           1       0.78      0.73      0.75        95\n",
      "\n",
      "    accuracy                           0.79       223\n",
      "   macro avg       0.79      0.79      0.79       223\n",
      "weighted avg       0.79      0.79      0.79       223\n",
      "\n"
     ]
    }
   ],
   "source": [
    "give_confusion_report(model,X_test1,y_test)"
   ]
  },
  {
   "cell_type": "code",
   "execution_count": null,
   "metadata": {},
   "outputs": [],
   "source": []
  },
  {
   "cell_type": "markdown",
   "metadata": {},
   "source": [
    "Decision Tree, max depth = 14"
   ]
  },
  {
   "cell_type": "code",
   "execution_count": 275,
   "metadata": {},
   "outputs": [
    {
     "data": {
      "image/png": "[encoded data removed]",
      "text/plain": [
       "<Figure size 640x480 with 1 Axes>"
      ]
     },
     "metadata": {},
     "output_type": "display_data"
    }
   ],
   "source": [
    "model_1 = DecisionTreeClassifier(max_depth = 14) \n",
    "\n",
    "model_1.fit(imputed,y_train)\n",
    "\n",
    "#plt.figure(figsize=(15, 8))\n",
    "\n",
    "plot_tree(model_1,\n",
    "          feature_names=X_train8.columns,\n",
    "          filled=True)\n",
    "plt.show()\n"
   ]
  },
  {
   "cell_type": "code",
   "execution_count": 276,
   "metadata": {},
   "outputs": [
    {
     "data": {
      "text/html": [
       "<div>\n",
       "<style scoped>\n",
       "    .dataframe tbody tr th:only-of-type {\n",
       "        vertical-align: middle;\n",
       "    }\n",
       "\n",
       "    .dataframe tbody tr th {\n",
       "        vertical-align: top;\n",
       "    }\n",
       "\n",
       "    .dataframe thead th {\n",
       "        text-align: right;\n",
       "    }\n",
       "</style>\n",
       "<table border=\"1\" class=\"dataframe\">\n",
       "  <thead>\n",
       "    <tr style=\"text-align: right;\">\n",
       "      <th></th>\n",
       "      <th>feature_names</th>\n",
       "      <th>importance</th>\n",
       "    </tr>\n",
       "  </thead>\n",
       "  <tbody>\n",
       "    <tr>\n",
       "      <th>0</th>\n",
       "      <td>fare</td>\n",
       "      <td>0.430598</td>\n",
       "    </tr>\n",
       "    <tr>\n",
       "      <th>1</th>\n",
       "      <td>deck</td>\n",
       "      <td>0.331144</td>\n",
       "    </tr>\n",
       "    <tr>\n",
       "      <th>2</th>\n",
       "      <td>pclass</td>\n",
       "      <td>0.006737</td>\n",
       "    </tr>\n",
       "    <tr>\n",
       "      <th>3</th>\n",
       "      <td>age</td>\n",
       "      <td>0.231522</td>\n",
       "    </tr>\n",
       "  </tbody>\n",
       "</table>\n",
       "</div>"
      ],
      "text/plain": [
       "  feature_names  importance\n",
       "0          fare    0.430598\n",
       "1          deck    0.331144\n",
       "2        pclass    0.006737\n",
       "3           age    0.231522"
      ]
     },
     "metadata": {},
     "output_type": "display_data"
    },
    {
     "data": {
      "image/png": "[encoded data removed]",
      "text/plain": [
       "<Figure size 800x500 with 1 Axes>"
      ]
     },
     "metadata": {},
     "output_type": "display_data"
    }
   ],
   "source": [
    "give_f_imp(model_1,imputed)"
   ]
  },
  {
   "cell_type": "code",
   "execution_count": 277,
   "metadata": {},
   "outputs": [
    {
     "data": {
      "text/html": [
       "<div>\n",
       "<style scoped>\n",
       "    .dataframe tbody tr th:only-of-type {\n",
       "        vertical-align: middle;\n",
       "    }\n",
       "\n",
       "    .dataframe tbody tr th {\n",
       "        vertical-align: top;\n",
       "    }\n",
       "\n",
       "    .dataframe thead th {\n",
       "        text-align: right;\n",
       "    }\n",
       "</style>\n",
       "<table border=\"1\" class=\"dataframe\">\n",
       "  <thead>\n",
       "    <tr style=\"text-align: right;\">\n",
       "      <th></th>\n",
       "      <th>n</th>\n",
       "      <th>train score</th>\n",
       "      <th>test score</th>\n",
       "    </tr>\n",
       "  </thead>\n",
       "  <tbody>\n",
       "    <tr>\n",
       "      <th>0</th>\n",
       "      <td>53</td>\n",
       "      <td>0.984906</td>\n",
       "      <td>0.640624</td>\n",
       "    </tr>\n",
       "    <tr>\n",
       "      <th>1</th>\n",
       "      <td>106</td>\n",
       "      <td>0.986792</td>\n",
       "      <td>0.645191</td>\n",
       "    </tr>\n",
       "    <tr>\n",
       "      <th>2</th>\n",
       "      <td>160</td>\n",
       "      <td>0.983750</td>\n",
       "      <td>0.652688</td>\n",
       "    </tr>\n",
       "    <tr>\n",
       "      <th>3</th>\n",
       "      <td>213</td>\n",
       "      <td>0.971831</td>\n",
       "      <td>0.655684</td>\n",
       "    </tr>\n",
       "    <tr>\n",
       "      <th>4</th>\n",
       "      <td>267</td>\n",
       "      <td>0.967041</td>\n",
       "      <td>0.652699</td>\n",
       "    </tr>\n",
       "    <tr>\n",
       "      <th>5</th>\n",
       "      <td>320</td>\n",
       "      <td>0.963125</td>\n",
       "      <td>0.651251</td>\n",
       "    </tr>\n",
       "    <tr>\n",
       "      <th>6</th>\n",
       "      <td>373</td>\n",
       "      <td>0.961930</td>\n",
       "      <td>0.636292</td>\n",
       "    </tr>\n",
       "    <tr>\n",
       "      <th>7</th>\n",
       "      <td>427</td>\n",
       "      <td>0.953630</td>\n",
       "      <td>0.655662</td>\n",
       "    </tr>\n",
       "    <tr>\n",
       "      <th>8</th>\n",
       "      <td>480</td>\n",
       "      <td>0.955000</td>\n",
       "      <td>0.654147</td>\n",
       "    </tr>\n",
       "    <tr>\n",
       "      <th>9</th>\n",
       "      <td>534</td>\n",
       "      <td>0.949438</td>\n",
       "      <td>0.658647</td>\n",
       "    </tr>\n",
       "  </tbody>\n",
       "</table>\n",
       "</div>"
      ],
      "text/plain": [
       "     n  train score  test score\n",
       "0   53     0.984906    0.640624\n",
       "1  106     0.986792    0.645191\n",
       "2  160     0.983750    0.652688\n",
       "3  213     0.971831    0.655684\n",
       "4  267     0.967041    0.652699\n",
       "5  320     0.963125    0.651251\n",
       "6  373     0.961930    0.636292\n",
       "7  427     0.953630    0.655662\n",
       "8  480     0.955000    0.654147\n",
       "9  534     0.949438    0.658647"
      ]
     },
     "metadata": {},
     "output_type": "display_data"
    },
    {
     "data": {
      "image/png": "[encoded data removed]",
      "text/plain": [
       "<Figure size 800x500 with 1 Axes>"
      ]
     },
     "metadata": {},
     "output_type": "display_data"
    }
   ],
   "source": [
    "give_learning_curve(model_1, imputed,y_train, 'accuracy')"
   ]
  },
  {
   "cell_type": "code",
   "execution_count": 281,
   "metadata": {},
   "outputs": [
    {
     "name": "stdout",
     "output_type": "stream",
     "text": [
      "0.6995515695067265\n"
     ]
    }
   ],
   "source": [
    "y_pred = model_1.predict(imputedtest)\n",
    "\n",
    "score = accuracy_score(y_test,y_pred)\n",
    "print(score)"
   ]
  },
  {
   "cell_type": "code",
   "execution_count": 279,
   "metadata": {},
   "outputs": [
    {
     "data": {
      "image/png": "[encoded data removed]",
      "text/plain": [
       "<Figure size 640x480 with 2 Axes>"
      ]
     },
     "metadata": {},
     "output_type": "display_data"
    },
    {
     "name": "stdout",
     "output_type": "stream",
     "text": [
      "              precision    recall  f1-score   support\n",
      "\n",
      "           0       0.73      0.77      0.75       128\n",
      "           1       0.66      0.61      0.63        95\n",
      "\n",
      "    accuracy                           0.70       223\n",
      "   macro avg       0.69      0.69      0.69       223\n",
      "weighted avg       0.70      0.70      0.70       223\n",
      "\n"
     ]
    }
   ],
   "source": [
    "give_confusion_report(model_1,imputedtest,y_test)"
   ]
  },
  {
   "cell_type": "markdown",
   "metadata": {},
   "source": [
    "**Linear Regression**"
   ]
  },
  {
   "cell_type": "code",
   "execution_count": 178,
   "metadata": {},
   "outputs": [],
   "source": [
    "from sklearn.linear_model import LogisticRegression"
   ]
  },
  {
   "cell_type": "code",
   "execution_count": 201,
   "metadata": {},
   "outputs": [
    {
     "data": {
      "text/plain": [
       "246    False\n",
       "588     True\n",
       "472     True\n",
       "71     False\n",
       "654    False\n",
       "       ...  \n",
       "827     True\n",
       "720     True\n",
       "14     False\n",
       "549     True\n",
       "216     True\n",
       "Name: survived, Length: 223, dtype: bool"
      ]
     },
     "execution_count": 201,
     "metadata": {},
     "output_type": "execute_result"
    }
   ],
   "source": [
    "clf = LogisticRegression(random_state=42).fit(X_train1, y_train)\n",
    "y_pred = clf.predict(X_test1)\n",
    "\n",
    "y_pred == y_test"
   ]
  },
  {
   "cell_type": "code",
   "execution_count": 203,
   "metadata": {},
   "outputs": [
    {
     "data": {
      "text/html": [
       "<div>\n",
       "<style scoped>\n",
       "    .dataframe tbody tr th:only-of-type {\n",
       "        vertical-align: middle;\n",
       "    }\n",
       "\n",
       "    .dataframe tbody tr th {\n",
       "        vertical-align: top;\n",
       "    }\n",
       "\n",
       "    .dataframe thead th {\n",
       "        text-align: right;\n",
       "    }\n",
       "</style>\n",
       "<table border=\"1\" class=\"dataframe\">\n",
       "  <thead>\n",
       "    <tr style=\"text-align: right;\">\n",
       "      <th></th>\n",
       "      <th>n</th>\n",
       "      <th>train score</th>\n",
       "      <th>test score</th>\n",
       "    </tr>\n",
       "  </thead>\n",
       "  <tbody>\n",
       "    <tr>\n",
       "      <th>0</th>\n",
       "      <td>53</td>\n",
       "      <td>0.879245</td>\n",
       "      <td>0.749994</td>\n",
       "    </tr>\n",
       "    <tr>\n",
       "      <th>1</th>\n",
       "      <td>106</td>\n",
       "      <td>0.854717</td>\n",
       "      <td>0.724543</td>\n",
       "    </tr>\n",
       "    <tr>\n",
       "      <th>2</th>\n",
       "      <td>160</td>\n",
       "      <td>0.827500</td>\n",
       "      <td>0.736483</td>\n",
       "    </tr>\n",
       "    <tr>\n",
       "      <th>3</th>\n",
       "      <td>213</td>\n",
       "      <td>0.791549</td>\n",
       "      <td>0.772427</td>\n",
       "    </tr>\n",
       "    <tr>\n",
       "      <th>4</th>\n",
       "      <td>267</td>\n",
       "      <td>0.797004</td>\n",
       "      <td>0.782898</td>\n",
       "    </tr>\n",
       "    <tr>\n",
       "      <th>5</th>\n",
       "      <td>320</td>\n",
       "      <td>0.796875</td>\n",
       "      <td>0.779912</td>\n",
       "    </tr>\n",
       "    <tr>\n",
       "      <th>6</th>\n",
       "      <td>373</td>\n",
       "      <td>0.787131</td>\n",
       "      <td>0.779924</td>\n",
       "    </tr>\n",
       "    <tr>\n",
       "      <th>7</th>\n",
       "      <td>427</td>\n",
       "      <td>0.784543</td>\n",
       "      <td>0.782909</td>\n",
       "    </tr>\n",
       "    <tr>\n",
       "      <th>8</th>\n",
       "      <td>480</td>\n",
       "      <td>0.785833</td>\n",
       "      <td>0.782909</td>\n",
       "    </tr>\n",
       "    <tr>\n",
       "      <th>9</th>\n",
       "      <td>534</td>\n",
       "      <td>0.783521</td>\n",
       "      <td>0.784401</td>\n",
       "    </tr>\n",
       "  </tbody>\n",
       "</table>\n",
       "</div>"
      ],
      "text/plain": [
       "     n  train score  test score\n",
       "0   53     0.879245    0.749994\n",
       "1  106     0.854717    0.724543\n",
       "2  160     0.827500    0.736483\n",
       "3  213     0.791549    0.772427\n",
       "4  267     0.797004    0.782898\n",
       "5  320     0.796875    0.779912\n",
       "6  373     0.787131    0.779924\n",
       "7  427     0.784543    0.782909\n",
       "8  480     0.785833    0.782909\n",
       "9  534     0.783521    0.784401"
      ]
     },
     "metadata": {},
     "output_type": "display_data"
    },
    {
     "data": {
      "image/png": "[encoded data removed]",
      "text/plain": [
       "<Figure size 800x500 with 1 Axes>"
      ]
     },
     "metadata": {},
     "output_type": "display_data"
    }
   ],
   "source": [
    "give_learning_curve(clf, X_train1,y_train, 'accuracy')"
   ]
  },
  {
   "cell_type": "code",
   "execution_count": 204,
   "metadata": {},
   "outputs": [
    {
     "data": {
      "image/png": "[encoded data removed]",
      "text/plain": [
       "<Figure size 640x480 with 2 Axes>"
      ]
     },
     "metadata": {},
     "output_type": "display_data"
    },
    {
     "name": "stdout",
     "output_type": "stream",
     "text": [
      "              precision    recall  f1-score   support\n",
      "\n",
      "           0       0.83      0.79      0.81       128\n",
      "           1       0.74      0.79      0.76        95\n",
      "\n",
      "    accuracy                           0.79       223\n",
      "   macro avg       0.79      0.79      0.79       223\n",
      "weighted avg       0.79      0.79      0.79       223\n",
      "\n"
     ]
    }
   ],
   "source": [
    "give_confusion_report(clf,X_test1,y_test)"
   ]
  },
  {
   "cell_type": "code",
   "execution_count": 205,
   "metadata": {},
   "outputs": [
    {
     "data": {
      "text/plain": [
       "0.7892376681614349"
      ]
     },
     "execution_count": 205,
     "metadata": {},
     "output_type": "execute_result"
    }
   ],
   "source": [
    "accuracy_score(y_test,y_pred)"
   ]
  }
 ],
 "metadata": {
  "kernelspec": {
   "display_name": "Python 3 (ipykernel)",
   "language": "python",
   "name": "python3"
  },
  "language_info": {
   "codemirror_mode": {
    "name": "ipython",
    "version": 3
   },
   "file_extension": ".py",
   "mimetype": "text/x-python",
   "name": "python",
   "nbconvert_exporter": "python",
   "pygments_lexer": "ipython3",
   "version": "3.10.9"
  }
 },
 "nbformat": 4,
 "nbformat_minor": 2
}
